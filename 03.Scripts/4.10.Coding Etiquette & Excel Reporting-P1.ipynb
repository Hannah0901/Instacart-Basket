{
 "cells": [
  {
   "cell_type": "markdown",
   "id": "8f5d2804",
   "metadata": {},
   "source": [
    "# Step 1 Import libraries & Dataset"
   ]
  },
  {
   "cell_type": "code",
   "execution_count": 1,
   "id": "0c53889a",
   "metadata": {},
   "outputs": [],
   "source": [
    "# Importing libraries\n",
    "\n",
    "import pandas as pd\n",
    "import numpy as np\n",
    "import os\n",
    "import matplotlib.pyplot as plt\n",
    "import seaborn as sns\n",
    "import scipy"
   ]
  },
  {
   "cell_type": "code",
   "execution_count": 3,
   "id": "1fccc96f",
   "metadata": {},
   "outputs": [],
   "source": [
    "# import finall clean data orders_products_customers_merged pkl\n",
    "path=r'C:\\online course\\career\\python data\\202304'"
   ]
  },
  {
   "cell_type": "code",
   "execution_count": 4,
   "id": "b894d080",
   "metadata": {},
   "outputs": [],
   "source": [
    "df=pd.read_pickle(os.path.join(path,'02.Data','Prepared data','orders_products_customers_merged.pkl'))"
   ]
  },
  {
   "cell_type": "code",
   "execution_count": 5,
   "id": "c7a51c55",
   "metadata": {},
   "outputs": [
    {
     "data": {
      "text/html": [
       "<div>\n",
       "<style scoped>\n",
       "    .dataframe tbody tr th:only-of-type {\n",
       "        vertical-align: middle;\n",
       "    }\n",
       "\n",
       "    .dataframe tbody tr th {\n",
       "        vertical-align: top;\n",
       "    }\n",
       "\n",
       "    .dataframe thead th {\n",
       "        text-align: right;\n",
       "    }\n",
       "</style>\n",
       "<table border=\"1\" class=\"dataframe\">\n",
       "  <thead>\n",
       "    <tr style=\"text-align: right;\">\n",
       "      <th></th>\n",
       "      <th>order_id</th>\n",
       "      <th>user_id</th>\n",
       "      <th>eval_set</th>\n",
       "      <th>order_number</th>\n",
       "      <th>orders_day_of_week</th>\n",
       "      <th>order_hour_of_day</th>\n",
       "      <th>Order Interval</th>\n",
       "      <th>product_id</th>\n",
       "      <th>add_to_cart_order</th>\n",
       "      <th>reordered</th>\n",
       "      <th>...</th>\n",
       "      <th>order_freq_flag</th>\n",
       "      <th>First Name</th>\n",
       "      <th>Last Name</th>\n",
       "      <th>Gender</th>\n",
       "      <th>STATE</th>\n",
       "      <th>Age</th>\n",
       "      <th>dependants</th>\n",
       "      <th>fam_status</th>\n",
       "      <th>income</th>\n",
       "      <th>True</th>\n",
       "    </tr>\n",
       "  </thead>\n",
       "  <tbody>\n",
       "    <tr>\n",
       "      <th>0</th>\n",
       "      <td>2968173</td>\n",
       "      <td>15</td>\n",
       "      <td>prior</td>\n",
       "      <td>15</td>\n",
       "      <td>1</td>\n",
       "      <td>9</td>\n",
       "      <td>7.0</td>\n",
       "      <td>196</td>\n",
       "      <td>2</td>\n",
       "      <td>0</td>\n",
       "      <td>...</td>\n",
       "      <td>Frequent customer</td>\n",
       "      <td>Janet</td>\n",
       "      <td>Woodard</td>\n",
       "      <td>Female</td>\n",
       "      <td>Indiana</td>\n",
       "      <td>69</td>\n",
       "      <td>0</td>\n",
       "      <td>divorced/widowed</td>\n",
       "      <td>54313</td>\n",
       "      <td>both</td>\n",
       "    </tr>\n",
       "    <tr>\n",
       "      <th>1</th>\n",
       "      <td>1870022</td>\n",
       "      <td>15</td>\n",
       "      <td>prior</td>\n",
       "      <td>17</td>\n",
       "      <td>2</td>\n",
       "      <td>16</td>\n",
       "      <td>8.0</td>\n",
       "      <td>196</td>\n",
       "      <td>6</td>\n",
       "      <td>1</td>\n",
       "      <td>...</td>\n",
       "      <td>Frequent customer</td>\n",
       "      <td>Janet</td>\n",
       "      <td>Woodard</td>\n",
       "      <td>Female</td>\n",
       "      <td>Indiana</td>\n",
       "      <td>69</td>\n",
       "      <td>0</td>\n",
       "      <td>divorced/widowed</td>\n",
       "      <td>54313</td>\n",
       "      <td>both</td>\n",
       "    </tr>\n",
       "    <tr>\n",
       "      <th>2</th>\n",
       "      <td>1911383</td>\n",
       "      <td>15</td>\n",
       "      <td>prior</td>\n",
       "      <td>18</td>\n",
       "      <td>2</td>\n",
       "      <td>11</td>\n",
       "      <td>7.0</td>\n",
       "      <td>196</td>\n",
       "      <td>1</td>\n",
       "      <td>1</td>\n",
       "      <td>...</td>\n",
       "      <td>Frequent customer</td>\n",
       "      <td>Janet</td>\n",
       "      <td>Woodard</td>\n",
       "      <td>Female</td>\n",
       "      <td>Indiana</td>\n",
       "      <td>69</td>\n",
       "      <td>0</td>\n",
       "      <td>divorced/widowed</td>\n",
       "      <td>54313</td>\n",
       "      <td>both</td>\n",
       "    </tr>\n",
       "    <tr>\n",
       "      <th>3</th>\n",
       "      <td>2715276</td>\n",
       "      <td>15</td>\n",
       "      <td>prior</td>\n",
       "      <td>21</td>\n",
       "      <td>1</td>\n",
       "      <td>9</td>\n",
       "      <td>7.0</td>\n",
       "      <td>196</td>\n",
       "      <td>1</td>\n",
       "      <td>1</td>\n",
       "      <td>...</td>\n",
       "      <td>Frequent customer</td>\n",
       "      <td>Janet</td>\n",
       "      <td>Woodard</td>\n",
       "      <td>Female</td>\n",
       "      <td>Indiana</td>\n",
       "      <td>69</td>\n",
       "      <td>0</td>\n",
       "      <td>divorced/widowed</td>\n",
       "      <td>54313</td>\n",
       "      <td>both</td>\n",
       "    </tr>\n",
       "    <tr>\n",
       "      <th>4</th>\n",
       "      <td>487368</td>\n",
       "      <td>15</td>\n",
       "      <td>prior</td>\n",
       "      <td>22</td>\n",
       "      <td>1</td>\n",
       "      <td>10</td>\n",
       "      <td>14.0</td>\n",
       "      <td>196</td>\n",
       "      <td>1</td>\n",
       "      <td>1</td>\n",
       "      <td>...</td>\n",
       "      <td>Frequent customer</td>\n",
       "      <td>Janet</td>\n",
       "      <td>Woodard</td>\n",
       "      <td>Female</td>\n",
       "      <td>Indiana</td>\n",
       "      <td>69</td>\n",
       "      <td>0</td>\n",
       "      <td>divorced/widowed</td>\n",
       "      <td>54313</td>\n",
       "      <td>both</td>\n",
       "    </tr>\n",
       "  </tbody>\n",
       "</table>\n",
       "<p>5 rows × 33 columns</p>\n",
       "</div>"
      ],
      "text/plain": [
       "   order_id user_id eval_set  order_number  orders_day_of_week  \\\n",
       "0   2968173      15    prior            15                   1   \n",
       "1   1870022      15    prior            17                   2   \n",
       "2   1911383      15    prior            18                   2   \n",
       "3   2715276      15    prior            21                   1   \n",
       "4    487368      15    prior            22                   1   \n",
       "\n",
       "   order_hour_of_day  Order Interval  product_id  add_to_cart_order  \\\n",
       "0                  9             7.0         196                  2   \n",
       "1                 16             8.0         196                  6   \n",
       "2                 11             7.0         196                  1   \n",
       "3                  9             7.0         196                  1   \n",
       "4                 10            14.0         196                  1   \n",
       "\n",
       "   reordered  ...    order_freq_flag  First Name  Last Name  Gender    STATE  \\\n",
       "0          0  ...  Frequent customer       Janet    Woodard  Female  Indiana   \n",
       "1          1  ...  Frequent customer       Janet    Woodard  Female  Indiana   \n",
       "2          1  ...  Frequent customer       Janet    Woodard  Female  Indiana   \n",
       "3          1  ...  Frequent customer       Janet    Woodard  Female  Indiana   \n",
       "4          1  ...  Frequent customer       Janet    Woodard  Female  Indiana   \n",
       "\n",
       "  Age dependants        fam_status  income  True  \n",
       "0  69          0  divorced/widowed   54313  both  \n",
       "1  69          0  divorced/widowed   54313  both  \n",
       "2  69          0  divorced/widowed   54313  both  \n",
       "3  69          0  divorced/widowed   54313  both  \n",
       "4  69          0  divorced/widowed   54313  both  \n",
       "\n",
       "[5 rows x 33 columns]"
      ]
     },
     "execution_count": 5,
     "metadata": {},
     "output_type": "execute_result"
    }
   ],
   "source": [
    "df.head()"
   ]
  },
  {
   "cell_type": "markdown",
   "id": "346348ee",
   "metadata": {},
   "source": [
    "# Step 2: Checking for data security"
   ]
  },
  {
   "cell_type": "code",
   "execution_count": 6,
   "id": "8f1c4835",
   "metadata": {},
   "outputs": [
    {
     "name": "stdout",
     "output_type": "stream",
     "text": [
      "<class 'pandas.core.frame.DataFrame'>\n",
      "Int64Index: 29632737 entries, 0 to 29632736\n",
      "Data columns (total 33 columns):\n",
      " #   Column                 Dtype   \n",
      "---  ------                 -----   \n",
      " 0   order_id               int64   \n",
      " 1   user_id                object  \n",
      " 2   eval_set               object  \n",
      " 3   order_number           int64   \n",
      " 4   orders_day_of_week     int64   \n",
      " 5   order_hour_of_day      int64   \n",
      " 6   Order Interval         float64 \n",
      " 7   product_id             int64   \n",
      " 8   add_to_cart_order      int64   \n",
      " 9   reordered              int64   \n",
      " 10  product_name           object  \n",
      " 11  aisle_id               int64   \n",
      " 12  department_id          int64   \n",
      " 13  prices                 float64 \n",
      " 14  price_range_loc        object  \n",
      " 15  busiest_day            object  \n",
      " 16  busiest_days           object  \n",
      " 17  busiest_period_of_day  object  \n",
      " 18  max_order              int64   \n",
      " 19  loyalty_flag           object  \n",
      " 20  avg_price              float64 \n",
      " 21  spending_flag          object  \n",
      " 22  median_freq            float64 \n",
      " 23  order_freq_flag        object  \n",
      " 24  First Name             object  \n",
      " 25  Last Name              object  \n",
      " 26  Gender                 object  \n",
      " 27  STATE                  object  \n",
      " 28  Age                    int64   \n",
      " 29  dependants             int64   \n",
      " 30  fam_status             object  \n",
      " 31  income                 int64   \n",
      " 32  True                   category\n",
      "dtypes: category(1), float64(4), int64(13), object(15)\n",
      "memory usage: 7.3+ GB\n"
     ]
    }
   ],
   "source": [
    "# checking the given information\n",
    "df.info()"
   ]
  },
  {
   "cell_type": "markdown",
   "id": "3f6fd801",
   "metadata": {},
   "source": [
    "We could find personally identifiable information (PII):First Name and Last Name,I delete them."
   ]
  },
  {
   "cell_type": "code",
   "execution_count": 7,
   "id": "6b933a6d",
   "metadata": {},
   "outputs": [],
   "source": [
    "# drop the columns\n",
    "df=df.drop(columns = ['Last Name','First Name'])"
   ]
  },
  {
   "cell_type": "code",
   "execution_count": 8,
   "id": "63680cca",
   "metadata": {},
   "outputs": [
    {
     "name": "stdout",
     "output_type": "stream",
     "text": [
      "<class 'pandas.core.frame.DataFrame'>\n",
      "Int64Index: 29632737 entries, 0 to 29632736\n",
      "Data columns (total 31 columns):\n",
      " #   Column                 Dtype   \n",
      "---  ------                 -----   \n",
      " 0   order_id               int64   \n",
      " 1   user_id                object  \n",
      " 2   eval_set               object  \n",
      " 3   order_number           int64   \n",
      " 4   orders_day_of_week     int64   \n",
      " 5   order_hour_of_day      int64   \n",
      " 6   Order Interval         float64 \n",
      " 7   product_id             int64   \n",
      " 8   add_to_cart_order      int64   \n",
      " 9   reordered              int64   \n",
      " 10  product_name           object  \n",
      " 11  aisle_id               int64   \n",
      " 12  department_id          int64   \n",
      " 13  prices                 float64 \n",
      " 14  price_range_loc        object  \n",
      " 15  busiest_day            object  \n",
      " 16  busiest_days           object  \n",
      " 17  busiest_period_of_day  object  \n",
      " 18  max_order              int64   \n",
      " 19  loyalty_flag           object  \n",
      " 20  avg_price              float64 \n",
      " 21  spending_flag          object  \n",
      " 22  median_freq            float64 \n",
      " 23  order_freq_flag        object  \n",
      " 24  Gender                 object  \n",
      " 25  STATE                  object  \n",
      " 26  Age                    int64   \n",
      " 27  dependants             int64   \n",
      " 28  fam_status             object  \n",
      " 29  income                 int64   \n",
      " 30  True                   category\n",
      "dtypes: category(1), float64(4), int64(13), object(13)\n",
      "memory usage: 6.9+ GB\n"
     ]
    }
   ],
   "source": [
    "df.info()"
   ]
  },
  {
   "cell_type": "markdown",
   "id": "edf244e7",
   "metadata": {},
   "source": [
    "# step3  Create a regional segmentation of the data. You’ll need to create a “Region” column based on the “State” column from your customers data set."
   ]
  },
  {
   "cell_type": "markdown",
   "id": "405b0463",
   "metadata": {},
   "source": [
    "## Creating the 'region' column"
   ]
  },
  {
   "cell_type": "code",
   "execution_count": 9,
   "id": "683e97d1",
   "metadata": {},
   "outputs": [],
   "source": [
    "# Creating an empty list that will become the 'region' column\n",
    "\n",
    "region = []"
   ]
  },
  {
   "cell_type": "code",
   "execution_count": 10,
   "id": "43c4f42a",
   "metadata": {},
   "outputs": [
    {
     "data": {
      "text/plain": [
       "Pennsylvania            610776\n",
       "California              606063\n",
       "Georgia                 602311\n",
       "Rhode Island            601779\n",
       "New Mexico              601065\n",
       "Arizona                 600694\n",
       "North Carolina          596662\n",
       "Oklahoma                595412\n",
       "Massachusetts           594994\n",
       "Alaska                  594233\n",
       "Minnesota               594007\n",
       "Wyoming                 590637\n",
       "Texas                   587906\n",
       "Virginia                587695\n",
       "Maine                   585361\n",
       "Missouri                584460\n",
       "South Carolina          584046\n",
       "Louisiana               583194\n",
       "Colorado                583092\n",
       "Delaware                583081\n",
       "Nevada                  582835\n",
       "Alabama                 582531\n",
       "North Dakota            582153\n",
       "New York                581949\n",
       "Montana                 581691\n",
       "Arkansas                581023\n",
       "Kansas                  580232\n",
       "Washington              580137\n",
       "Kentucky                579978\n",
       "Oregon                  579586\n",
       "South Dakota            579133\n",
       "Hawaii                  578954\n",
       "Illinois                577763\n",
       "Mississippi             575923\n",
       "Florida                 574850\n",
       "Wisconsin               574743\n",
       "Michigan                574577\n",
       "Indiana                 573982\n",
       "Ohio                    573167\n",
       "Maryland                572826\n",
       "New Jersey              572555\n",
       "Nebraska                572446\n",
       "Iowa                    571971\n",
       "Connecticut             568005\n",
       "Tennessee               563178\n",
       "New Hampshire           560784\n",
       "West Virginia           560073\n",
       "District of Columbia    558783\n",
       "Vermont                 558453\n",
       "Utah                    557227\n",
       "Idaho                   553761\n",
       "Name: STATE, dtype: int64"
      ]
     },
     "execution_count": 10,
     "metadata": {},
     "output_type": "execute_result"
    }
   ],
   "source": [
    "# Checking to see how the states are written in the df\n",
    "df['STATE'].value_counts(dropna = False)"
   ]
  },
  {
   "cell_type": "code",
   "execution_count": 11,
   "id": "e2092219",
   "metadata": {},
   "outputs": [],
   "source": [
    "# Filling 'region' with 'northeast', 'midwest', 'south', or 'west'\n",
    "for x in df['STATE']:\n",
    "    if x in ['Maine','New Hampshire', 'Vermont', 'Massachusetts','Rhode Island','Connecticut','New York','Pennsylvania','New Jersey']:\n",
    "        region.append('northeast')\n",
    "    elif x in ['Wisconsin','Michigan','Illinois','Indiana','Ohio','North Dakota','South Dakota','Nebraska','Kansas','Minnesota','Iowa','Missouri']:\n",
    "        region.append('midwest')\n",
    "    elif x in ['Delaware','Maryland','District of Columbia','Virginia','West Virginia','North Carolina','South Carolina','Georgia','Florida','Kentucky','Tennessee','Mississippi','Alabama','Oklahoma','Texas','Arkansas','Louisiana']:\n",
    "        region.append('south')\n",
    "    else:\n",
    "        region.append('west')"
   ]
  },
  {
   "cell_type": "code",
   "execution_count": 12,
   "id": "b5aeebc7",
   "metadata": {
    "scrolled": true
   },
   "outputs": [],
   "source": [
    "#create the region column\n",
    "df['region'] = region"
   ]
  },
  {
   "cell_type": "code",
   "execution_count": 13,
   "id": "5fff7ca8",
   "metadata": {},
   "outputs": [
    {
     "data": {
      "text/plain": [
       "south        9869472\n",
       "west         7589975\n",
       "midwest      6938634\n",
       "northeast    5234656\n",
       "Name: region, dtype: int64"
      ]
     },
     "execution_count": 13,
     "metadata": {},
     "output_type": "execute_result"
    }
   ],
   "source": [
    "df['region'].value_counts(dropna=False)"
   ]
  },
  {
   "cell_type": "markdown",
   "id": "0cad8dc9",
   "metadata": {},
   "source": [
    "Comparing 'region' with 'spending_flag'"
   ]
  },
  {
   "cell_type": "code",
   "execution_count": 14,
   "id": "413e5014",
   "metadata": {},
   "outputs": [],
   "source": [
    "# Creating a crosstab between 'region' and 'spending_flag'\n",
    "region_spend=pd.crosstab(df['region'],df['spending_flag'],dropna=False)"
   ]
  },
  {
   "cell_type": "code",
   "execution_count": 15,
   "id": "fecf01d3",
   "metadata": {},
   "outputs": [
    {
     "data": {
      "text/html": [
       "<div>\n",
       "<style scoped>\n",
       "    .dataframe tbody tr th:only-of-type {\n",
       "        vertical-align: middle;\n",
       "    }\n",
       "\n",
       "    .dataframe tbody tr th {\n",
       "        vertical-align: top;\n",
       "    }\n",
       "\n",
       "    .dataframe thead th {\n",
       "        text-align: right;\n",
       "    }\n",
       "</style>\n",
       "<table border=\"1\" class=\"dataframe\">\n",
       "  <thead>\n",
       "    <tr style=\"text-align: right;\">\n",
       "      <th>spending_flag</th>\n",
       "      <th>High spender</th>\n",
       "      <th>Low spender</th>\n",
       "    </tr>\n",
       "    <tr>\n",
       "      <th>region</th>\n",
       "      <th></th>\n",
       "      <th></th>\n",
       "    </tr>\n",
       "  </thead>\n",
       "  <tbody>\n",
       "    <tr>\n",
       "      <th>midwest</th>\n",
       "      <td>142788</td>\n",
       "      <td>6795846</td>\n",
       "    </tr>\n",
       "    <tr>\n",
       "      <th>northeast</th>\n",
       "      <td>100166</td>\n",
       "      <td>5134490</td>\n",
       "    </tr>\n",
       "    <tr>\n",
       "      <th>south</th>\n",
       "      <td>193109</td>\n",
       "      <td>9676363</td>\n",
       "    </tr>\n",
       "    <tr>\n",
       "      <th>west</th>\n",
       "      <td>146151</td>\n",
       "      <td>7443824</td>\n",
       "    </tr>\n",
       "  </tbody>\n",
       "</table>\n",
       "</div>"
      ],
      "text/plain": [
       "spending_flag  High spender  Low spender\n",
       "region                                  \n",
       "midwest              142788      6795846\n",
       "northeast            100166      5134490\n",
       "south                193109      9676363\n",
       "west                 146151      7443824"
      ]
     },
     "execution_count": 15,
     "metadata": {},
     "output_type": "execute_result"
    }
   ],
   "source": [
    "region_spend"
   ]
  },
  {
   "cell_type": "code",
   "execution_count": 16,
   "id": "773c7e40",
   "metadata": {},
   "outputs": [],
   "source": [
    "# Copying to clipboard to paste in Excel\n",
    "region_spend.to_clipboard()"
   ]
  },
  {
   "cell_type": "code",
   "execution_count": 17,
   "id": "aed08cfe",
   "metadata": {},
   "outputs": [
    {
     "data": {
      "image/png": "[encoded data removed]",
      "text/plain": [
       "<Figure size 640x480 with 1 Axes>"
      ]
     },
     "metadata": {},
     "output_type": "display_data"
    }
   ],
   "source": [
    "# bar chart for spending flag distribution\n",
    "region_spending_bar=region_spend.plot.bar(rot=0,color=['navy','mediumslateblue','lightsteelblue'])"
   ]
  },
  {
   "cell_type": "markdown",
   "id": "51d17f45",
   "metadata": {},
   "source": [
    "The region of south has the most customers in every category."
   ]
  },
  {
   "cell_type": "code",
   "execution_count": 18,
   "id": "23cfea0d",
   "metadata": {},
   "outputs": [
    {
     "data": {
      "text/plain": [
       "Low spender     29050523\n",
       "High spender      582214\n",
       "Name: spending_flag, dtype: int64"
      ]
     },
     "execution_count": 18,
     "metadata": {},
     "output_type": "execute_result"
    }
   ],
   "source": [
    "df['spending_flag'].value_counts(dropna=False)"
   ]
  },
  {
   "cell_type": "code",
   "execution_count": 19,
   "id": "4cabdc55",
   "metadata": {},
   "outputs": [],
   "source": [
    "# exporting the bar graph\n",
    "region_spending_bar.figure.savefig(os.path.join(path, '04.Analysis','regional_spending_bar.png'))"
   ]
  },
  {
   "cell_type": "markdown",
   "id": "0309210a",
   "metadata": {},
   "source": [
    "# Step 4The Instacart CFO isn’t interested in customers who don’t generate much revenue for the app. Create an exclusion flag for low-activity customers (customers with less than 5 orders) and exclude them from the data. Make sure you export this sample."
   ]
  },
  {
   "cell_type": "markdown",
   "id": "9f84c588",
   "metadata": {},
   "source": [
    "Creating the exclusion flag"
   ]
  },
  {
   "cell_type": "code",
   "execution_count": 20,
   "id": "75ed1f0c",
   "metadata": {},
   "outputs": [],
   "source": [
    "df.loc[df['max_order']<5,'low_order_flag']='Low order customer'"
   ]
  },
  {
   "cell_type": "code",
   "execution_count": 21,
   "id": "1f3062c5",
   "metadata": {},
   "outputs": [],
   "source": [
    "df.loc[df['max_order'] >= 5, 'low_order_flag'] = 'High order customer'"
   ]
  },
  {
   "cell_type": "code",
   "execution_count": 22,
   "id": "518e2f1f",
   "metadata": {},
   "outputs": [
    {
     "data": {
      "text/plain": [
       "High order customer    28607255\n",
       "Low order customer      1025482\n",
       "Name: low_order_flag, dtype: int64"
      ]
     },
     "execution_count": 22,
     "metadata": {},
     "output_type": "execute_result"
    }
   ],
   "source": [
    "df['low_order_flag'].value_counts(dropna = False)"
   ]
  },
  {
   "cell_type": "markdown",
   "id": "4e4e0664",
   "metadata": {},
   "source": [
    "Creating a sample with only high order customers"
   ]
  },
  {
   "cell_type": "code",
   "execution_count": 23,
   "id": "34dc7a7a",
   "metadata": {},
   "outputs": [],
   "source": [
    "# Creating the sample\n",
    "\n",
    "df_high = df[df['low_order_flag'] == 'High order customer']"
   ]
  },
  {
   "cell_type": "code",
   "execution_count": 24,
   "id": "96d435e4",
   "metadata": {},
   "outputs": [
    {
     "data": {
      "text/html": [
       "<div>\n",
       "<style scoped>\n",
       "    .dataframe tbody tr th:only-of-type {\n",
       "        vertical-align: middle;\n",
       "    }\n",
       "\n",
       "    .dataframe tbody tr th {\n",
       "        vertical-align: top;\n",
       "    }\n",
       "\n",
       "    .dataframe thead th {\n",
       "        text-align: right;\n",
       "    }\n",
       "</style>\n",
       "<table border=\"1\" class=\"dataframe\">\n",
       "  <thead>\n",
       "    <tr style=\"text-align: right;\">\n",
       "      <th></th>\n",
       "      <th>order_id</th>\n",
       "      <th>user_id</th>\n",
       "      <th>eval_set</th>\n",
       "      <th>order_number</th>\n",
       "      <th>orders_day_of_week</th>\n",
       "      <th>order_hour_of_day</th>\n",
       "      <th>Order Interval</th>\n",
       "      <th>product_id</th>\n",
       "      <th>add_to_cart_order</th>\n",
       "      <th>reordered</th>\n",
       "      <th>...</th>\n",
       "      <th>order_freq_flag</th>\n",
       "      <th>Gender</th>\n",
       "      <th>STATE</th>\n",
       "      <th>Age</th>\n",
       "      <th>dependants</th>\n",
       "      <th>fam_status</th>\n",
       "      <th>income</th>\n",
       "      <th>True</th>\n",
       "      <th>region</th>\n",
       "      <th>low_order_flag</th>\n",
       "    </tr>\n",
       "  </thead>\n",
       "  <tbody>\n",
       "    <tr>\n",
       "      <th>0</th>\n",
       "      <td>2968173</td>\n",
       "      <td>15</td>\n",
       "      <td>prior</td>\n",
       "      <td>15</td>\n",
       "      <td>1</td>\n",
       "      <td>9</td>\n",
       "      <td>7.0</td>\n",
       "      <td>196</td>\n",
       "      <td>2</td>\n",
       "      <td>0</td>\n",
       "      <td>...</td>\n",
       "      <td>Frequent customer</td>\n",
       "      <td>Female</td>\n",
       "      <td>Indiana</td>\n",
       "      <td>69</td>\n",
       "      <td>0</td>\n",
       "      <td>divorced/widowed</td>\n",
       "      <td>54313</td>\n",
       "      <td>both</td>\n",
       "      <td>midwest</td>\n",
       "      <td>High order customer</td>\n",
       "    </tr>\n",
       "    <tr>\n",
       "      <th>1</th>\n",
       "      <td>1870022</td>\n",
       "      <td>15</td>\n",
       "      <td>prior</td>\n",
       "      <td>17</td>\n",
       "      <td>2</td>\n",
       "      <td>16</td>\n",
       "      <td>8.0</td>\n",
       "      <td>196</td>\n",
       "      <td>6</td>\n",
       "      <td>1</td>\n",
       "      <td>...</td>\n",
       "      <td>Frequent customer</td>\n",
       "      <td>Female</td>\n",
       "      <td>Indiana</td>\n",
       "      <td>69</td>\n",
       "      <td>0</td>\n",
       "      <td>divorced/widowed</td>\n",
       "      <td>54313</td>\n",
       "      <td>both</td>\n",
       "      <td>midwest</td>\n",
       "      <td>High order customer</td>\n",
       "    </tr>\n",
       "    <tr>\n",
       "      <th>2</th>\n",
       "      <td>1911383</td>\n",
       "      <td>15</td>\n",
       "      <td>prior</td>\n",
       "      <td>18</td>\n",
       "      <td>2</td>\n",
       "      <td>11</td>\n",
       "      <td>7.0</td>\n",
       "      <td>196</td>\n",
       "      <td>1</td>\n",
       "      <td>1</td>\n",
       "      <td>...</td>\n",
       "      <td>Frequent customer</td>\n",
       "      <td>Female</td>\n",
       "      <td>Indiana</td>\n",
       "      <td>69</td>\n",
       "      <td>0</td>\n",
       "      <td>divorced/widowed</td>\n",
       "      <td>54313</td>\n",
       "      <td>both</td>\n",
       "      <td>midwest</td>\n",
       "      <td>High order customer</td>\n",
       "    </tr>\n",
       "    <tr>\n",
       "      <th>3</th>\n",
       "      <td>2715276</td>\n",
       "      <td>15</td>\n",
       "      <td>prior</td>\n",
       "      <td>21</td>\n",
       "      <td>1</td>\n",
       "      <td>9</td>\n",
       "      <td>7.0</td>\n",
       "      <td>196</td>\n",
       "      <td>1</td>\n",
       "      <td>1</td>\n",
       "      <td>...</td>\n",
       "      <td>Frequent customer</td>\n",
       "      <td>Female</td>\n",
       "      <td>Indiana</td>\n",
       "      <td>69</td>\n",
       "      <td>0</td>\n",
       "      <td>divorced/widowed</td>\n",
       "      <td>54313</td>\n",
       "      <td>both</td>\n",
       "      <td>midwest</td>\n",
       "      <td>High order customer</td>\n",
       "    </tr>\n",
       "    <tr>\n",
       "      <th>4</th>\n",
       "      <td>487368</td>\n",
       "      <td>15</td>\n",
       "      <td>prior</td>\n",
       "      <td>22</td>\n",
       "      <td>1</td>\n",
       "      <td>10</td>\n",
       "      <td>14.0</td>\n",
       "      <td>196</td>\n",
       "      <td>1</td>\n",
       "      <td>1</td>\n",
       "      <td>...</td>\n",
       "      <td>Frequent customer</td>\n",
       "      <td>Female</td>\n",
       "      <td>Indiana</td>\n",
       "      <td>69</td>\n",
       "      <td>0</td>\n",
       "      <td>divorced/widowed</td>\n",
       "      <td>54313</td>\n",
       "      <td>both</td>\n",
       "      <td>midwest</td>\n",
       "      <td>High order customer</td>\n",
       "    </tr>\n",
       "  </tbody>\n",
       "</table>\n",
       "<p>5 rows × 33 columns</p>\n",
       "</div>"
      ],
      "text/plain": [
       "   order_id user_id eval_set  order_number  orders_day_of_week  \\\n",
       "0   2968173      15    prior            15                   1   \n",
       "1   1870022      15    prior            17                   2   \n",
       "2   1911383      15    prior            18                   2   \n",
       "3   2715276      15    prior            21                   1   \n",
       "4    487368      15    prior            22                   1   \n",
       "\n",
       "   order_hour_of_day  Order Interval  product_id  add_to_cart_order  \\\n",
       "0                  9             7.0         196                  2   \n",
       "1                 16             8.0         196                  6   \n",
       "2                 11             7.0         196                  1   \n",
       "3                  9             7.0         196                  1   \n",
       "4                 10            14.0         196                  1   \n",
       "\n",
       "   reordered  ...    order_freq_flag  Gender    STATE  Age dependants  \\\n",
       "0          0  ...  Frequent customer  Female  Indiana   69          0   \n",
       "1          1  ...  Frequent customer  Female  Indiana   69          0   \n",
       "2          1  ...  Frequent customer  Female  Indiana   69          0   \n",
       "3          1  ...  Frequent customer  Female  Indiana   69          0   \n",
       "4          1  ...  Frequent customer  Female  Indiana   69          0   \n",
       "\n",
       "         fam_status income  True   region       low_order_flag  \n",
       "0  divorced/widowed  54313  both  midwest  High order customer  \n",
       "1  divorced/widowed  54313  both  midwest  High order customer  \n",
       "2  divorced/widowed  54313  both  midwest  High order customer  \n",
       "3  divorced/widowed  54313  both  midwest  High order customer  \n",
       "4  divorced/widowed  54313  both  midwest  High order customer  \n",
       "\n",
       "[5 rows x 33 columns]"
      ]
     },
     "execution_count": 24,
     "metadata": {},
     "output_type": "execute_result"
    }
   ],
   "source": [
    "df_high.head()"
   ]
  },
  {
   "cell_type": "code",
   "execution_count": null,
   "id": "5d963b04",
   "metadata": {},
   "outputs": [],
   "source": [
    "# Exporting the sample as orders_products_high.pkl\n",
    "\n",
    "df_high.to_pickle(os.path.join(path,'02.Data','Prepared data','orders_products_high.pkl'))"
   ]
  },
  {
   "cell_type": "markdown",
   "id": "345741f8",
   "metadata": {},
   "source": [
    "# Step 5-Step9: Profiling Customers"
   ]
  },
  {
   "cell_type": "markdown",
   "id": "5a3cdf2c",
   "metadata": {},
   "source": [
    "Create a profiling variable based on age, income, certain goods in the “department_id” column, and number of dependents. You might also use the “orders_day_of_the_week” and “order_hour_of_day” columns if you can think of a way they would impact customer profiles. (Hint: As an example, try thinking of what characteristics would lead you to the profile “Single adult” or “Young parent.”)"
   ]
  },
  {
   "cell_type": "code",
   "execution_count": 25,
   "id": "e1ac9561",
   "metadata": {},
   "outputs": [
    {
     "data": {
      "text/html": [
       "<div>\n",
       "<style scoped>\n",
       "    .dataframe tbody tr th:only-of-type {\n",
       "        vertical-align: middle;\n",
       "    }\n",
       "\n",
       "    .dataframe tbody tr th {\n",
       "        vertical-align: top;\n",
       "    }\n",
       "\n",
       "    .dataframe thead th {\n",
       "        text-align: right;\n",
       "    }\n",
       "</style>\n",
       "<table border=\"1\" class=\"dataframe\">\n",
       "  <thead>\n",
       "    <tr style=\"text-align: right;\">\n",
       "      <th></th>\n",
       "      <th>order_id</th>\n",
       "      <th>order_number</th>\n",
       "      <th>orders_day_of_week</th>\n",
       "      <th>order_hour_of_day</th>\n",
       "      <th>Order Interval</th>\n",
       "      <th>product_id</th>\n",
       "      <th>add_to_cart_order</th>\n",
       "      <th>reordered</th>\n",
       "      <th>aisle_id</th>\n",
       "      <th>department_id</th>\n",
       "      <th>prices</th>\n",
       "      <th>max_order</th>\n",
       "      <th>avg_price</th>\n",
       "      <th>median_freq</th>\n",
       "      <th>Age</th>\n",
       "      <th>dependants</th>\n",
       "      <th>income</th>\n",
       "    </tr>\n",
       "  </thead>\n",
       "  <tbody>\n",
       "    <tr>\n",
       "      <th>count</th>\n",
       "      <td>2.963274e+07</td>\n",
       "      <td>2.963274e+07</td>\n",
       "      <td>2.963274e+07</td>\n",
       "      <td>2.963274e+07</td>\n",
       "      <td>2.963274e+07</td>\n",
       "      <td>2.963274e+07</td>\n",
       "      <td>2.963274e+07</td>\n",
       "      <td>2.963274e+07</td>\n",
       "      <td>2.963274e+07</td>\n",
       "      <td>2.963274e+07</td>\n",
       "      <td>2.963274e+07</td>\n",
       "      <td>2.963274e+07</td>\n",
       "      <td>2.963274e+07</td>\n",
       "      <td>2.963274e+07</td>\n",
       "      <td>2.963274e+07</td>\n",
       "      <td>2.963274e+07</td>\n",
       "      <td>2.963274e+07</td>\n",
       "    </tr>\n",
       "    <tr>\n",
       "      <th>mean</th>\n",
       "      <td>1.710666e+06</td>\n",
       "      <td>1.853383e+01</td>\n",
       "      <td>2.741270e+00</td>\n",
       "      <td>1.340673e+01</td>\n",
       "      <td>1.097613e+01</td>\n",
       "      <td>2.559488e+04</td>\n",
       "      <td>8.356653e+00</td>\n",
       "      <td>6.331558e-01</td>\n",
       "      <td>7.118836e+01</td>\n",
       "      <td>9.923083e+00</td>\n",
       "      <td>1.192784e+01</td>\n",
       "      <td>3.477054e+01</td>\n",
       "      <td>1.188423e+01</td>\n",
       "      <td>9.938668e+00</td>\n",
       "      <td>4.946307e+01</td>\n",
       "      <td>1.501852e+00</td>\n",
       "      <td>9.956191e+04</td>\n",
       "    </tr>\n",
       "    <tr>\n",
       "      <th>std</th>\n",
       "      <td>9.872169e+05</td>\n",
       "      <td>1.769213e+01</td>\n",
       "      <td>2.087390e+00</td>\n",
       "      <td>4.247300e+00</td>\n",
       "      <td>8.710052e+00</td>\n",
       "      <td>1.408073e+04</td>\n",
       "      <td>7.135222e+00</td>\n",
       "      <td>4.819435e-01</td>\n",
       "      <td>3.821794e+01</td>\n",
       "      <td>6.282175e+00</td>\n",
       "      <td>4.918745e+02</td>\n",
       "      <td>2.522810e+01</td>\n",
       "      <td>7.785988e+01</td>\n",
       "      <td>6.783682e+00</td>\n",
       "      <td>1.848680e+01</td>\n",
       "      <td>1.118804e+00</td>\n",
       "      <td>4.315336e+04</td>\n",
       "    </tr>\n",
       "    <tr>\n",
       "      <th>min</th>\n",
       "      <td>2.000000e+00</td>\n",
       "      <td>2.000000e+00</td>\n",
       "      <td>0.000000e+00</td>\n",
       "      <td>0.000000e+00</td>\n",
       "      <td>0.000000e+00</td>\n",
       "      <td>1.000000e+00</td>\n",
       "      <td>1.000000e+00</td>\n",
       "      <td>0.000000e+00</td>\n",
       "      <td>1.000000e+00</td>\n",
       "      <td>1.000000e+00</td>\n",
       "      <td>1.000000e+00</td>\n",
       "      <td>2.000000e+00</td>\n",
       "      <td>1.000000e+00</td>\n",
       "      <td>0.000000e+00</td>\n",
       "      <td>1.800000e+01</td>\n",
       "      <td>0.000000e+00</td>\n",
       "      <td>2.590300e+04</td>\n",
       "    </tr>\n",
       "    <tr>\n",
       "      <th>25%</th>\n",
       "      <td>8.560350e+05</td>\n",
       "      <td>6.000000e+00</td>\n",
       "      <td>1.000000e+00</td>\n",
       "      <td>1.000000e+01</td>\n",
       "      <td>5.000000e+00</td>\n",
       "      <td>1.354000e+04</td>\n",
       "      <td>3.000000e+00</td>\n",
       "      <td>0.000000e+00</td>\n",
       "      <td>3.100000e+01</td>\n",
       "      <td>4.000000e+00</td>\n",
       "      <td>4.200000e+00</td>\n",
       "      <td>1.500000e+01</td>\n",
       "      <td>7.390397e+00</td>\n",
       "      <td>6.000000e+00</td>\n",
       "      <td>3.300000e+01</td>\n",
       "      <td>1.000000e+00</td>\n",
       "      <td>6.715500e+04</td>\n",
       "    </tr>\n",
       "    <tr>\n",
       "      <th>50%</th>\n",
       "      <td>1.710743e+06</td>\n",
       "      <td>1.200000e+01</td>\n",
       "      <td>3.000000e+00</td>\n",
       "      <td>1.300000e+01</td>\n",
       "      <td>8.000000e+00</td>\n",
       "      <td>2.527200e+04</td>\n",
       "      <td>6.000000e+00</td>\n",
       "      <td>1.000000e+00</td>\n",
       "      <td>8.300000e+01</td>\n",
       "      <td>9.000000e+00</td>\n",
       "      <td>7.400000e+00</td>\n",
       "      <td>2.800000e+01</td>\n",
       "      <td>7.824595e+00</td>\n",
       "      <td>7.000000e+00</td>\n",
       "      <td>4.900000e+01</td>\n",
       "      <td>2.000000e+00</td>\n",
       "      <td>9.666300e+04</td>\n",
       "    </tr>\n",
       "    <tr>\n",
       "      <th>75%</th>\n",
       "      <td>2.565346e+06</td>\n",
       "      <td>2.500000e+01</td>\n",
       "      <td>5.000000e+00</td>\n",
       "      <td>1.600000e+01</td>\n",
       "      <td>1.500000e+01</td>\n",
       "      <td>3.794000e+04</td>\n",
       "      <td>1.100000e+01</td>\n",
       "      <td>1.000000e+00</td>\n",
       "      <td>1.070000e+02</td>\n",
       "      <td>1.600000e+01</td>\n",
       "      <td>1.130000e+01</td>\n",
       "      <td>4.900000e+01</td>\n",
       "      <td>8.250357e+00</td>\n",
       "      <td>1.200000e+01</td>\n",
       "      <td>6.500000e+01</td>\n",
       "      <td>3.000000e+00</td>\n",
       "      <td>1.279510e+05</td>\n",
       "    </tr>\n",
       "    <tr>\n",
       "      <th>max</th>\n",
       "      <td>3.421083e+06</td>\n",
       "      <td>9.900000e+01</td>\n",
       "      <td>6.000000e+00</td>\n",
       "      <td>2.300000e+01</td>\n",
       "      <td>3.000000e+01</td>\n",
       "      <td>4.968800e+04</td>\n",
       "      <td>1.450000e+02</td>\n",
       "      <td>1.000000e+00</td>\n",
       "      <td>1.340000e+02</td>\n",
       "      <td>2.100000e+01</td>\n",
       "      <td>9.999900e+04</td>\n",
       "      <td>9.900000e+01</td>\n",
       "      <td>2.500542e+04</td>\n",
       "      <td>3.000000e+01</td>\n",
       "      <td>8.100000e+01</td>\n",
       "      <td>3.000000e+00</td>\n",
       "      <td>5.939010e+05</td>\n",
       "    </tr>\n",
       "  </tbody>\n",
       "</table>\n",
       "</div>"
      ],
      "text/plain": [
       "           order_id  order_number  orders_day_of_week  order_hour_of_day  \\\n",
       "count  2.963274e+07  2.963274e+07        2.963274e+07       2.963274e+07   \n",
       "mean   1.710666e+06  1.853383e+01        2.741270e+00       1.340673e+01   \n",
       "std    9.872169e+05  1.769213e+01        2.087390e+00       4.247300e+00   \n",
       "min    2.000000e+00  2.000000e+00        0.000000e+00       0.000000e+00   \n",
       "25%    8.560350e+05  6.000000e+00        1.000000e+00       1.000000e+01   \n",
       "50%    1.710743e+06  1.200000e+01        3.000000e+00       1.300000e+01   \n",
       "75%    2.565346e+06  2.500000e+01        5.000000e+00       1.600000e+01   \n",
       "max    3.421083e+06  9.900000e+01        6.000000e+00       2.300000e+01   \n",
       "\n",
       "       Order Interval    product_id  add_to_cart_order     reordered  \\\n",
       "count    2.963274e+07  2.963274e+07       2.963274e+07  2.963274e+07   \n",
       "mean     1.097613e+01  2.559488e+04       8.356653e+00  6.331558e-01   \n",
       "std      8.710052e+00  1.408073e+04       7.135222e+00  4.819435e-01   \n",
       "min      0.000000e+00  1.000000e+00       1.000000e+00  0.000000e+00   \n",
       "25%      5.000000e+00  1.354000e+04       3.000000e+00  0.000000e+00   \n",
       "50%      8.000000e+00  2.527200e+04       6.000000e+00  1.000000e+00   \n",
       "75%      1.500000e+01  3.794000e+04       1.100000e+01  1.000000e+00   \n",
       "max      3.000000e+01  4.968800e+04       1.450000e+02  1.000000e+00   \n",
       "\n",
       "           aisle_id  department_id        prices     max_order     avg_price  \\\n",
       "count  2.963274e+07   2.963274e+07  2.963274e+07  2.963274e+07  2.963274e+07   \n",
       "mean   7.118836e+01   9.923083e+00  1.192784e+01  3.477054e+01  1.188423e+01   \n",
       "std    3.821794e+01   6.282175e+00  4.918745e+02  2.522810e+01  7.785988e+01   \n",
       "min    1.000000e+00   1.000000e+00  1.000000e+00  2.000000e+00  1.000000e+00   \n",
       "25%    3.100000e+01   4.000000e+00  4.200000e+00  1.500000e+01  7.390397e+00   \n",
       "50%    8.300000e+01   9.000000e+00  7.400000e+00  2.800000e+01  7.824595e+00   \n",
       "75%    1.070000e+02   1.600000e+01  1.130000e+01  4.900000e+01  8.250357e+00   \n",
       "max    1.340000e+02   2.100000e+01  9.999900e+04  9.900000e+01  2.500542e+04   \n",
       "\n",
       "        median_freq           Age    dependants        income  \n",
       "count  2.963274e+07  2.963274e+07  2.963274e+07  2.963274e+07  \n",
       "mean   9.938668e+00  4.946307e+01  1.501852e+00  9.956191e+04  \n",
       "std    6.783682e+00  1.848680e+01  1.118804e+00  4.315336e+04  \n",
       "min    0.000000e+00  1.800000e+01  0.000000e+00  2.590300e+04  \n",
       "25%    6.000000e+00  3.300000e+01  1.000000e+00  6.715500e+04  \n",
       "50%    7.000000e+00  4.900000e+01  2.000000e+00  9.666300e+04  \n",
       "75%    1.200000e+01  6.500000e+01  3.000000e+00  1.279510e+05  \n",
       "max    3.000000e+01  8.100000e+01  3.000000e+00  5.939010e+05  "
      ]
     },
     "execution_count": 25,
     "metadata": {},
     "output_type": "execute_result"
    }
   ],
   "source": [
    "df.describe()"
   ]
  },
  {
   "cell_type": "markdown",
   "id": "a29bc485",
   "metadata": {},
   "source": [
    "Profiles of Age"
   ]
  },
  {
   "cell_type": "code",
   "execution_count": 26,
   "id": "e68454bc",
   "metadata": {},
   "outputs": [
    {
     "data": {
      "text/plain": [
       "55+      11966116\n",
       "41-55     6992612\n",
       "26-40     6972782\n",
       "18-25     3701227\n",
       "Name: age_profile, dtype: int64"
      ]
     },
     "execution_count": 26,
     "metadata": {},
     "output_type": "execute_result"
    }
   ],
   "source": [
    "df.loc[(df['Age']<=25),'age_profile']='18-25'\n",
    "df.loc[(df['Age'] > 25) & (df['Age']<=40),'age_profile']='26-40'\n",
    "df.loc[(df['Age'] > 40) & (df['Age']<=55),'age_profile']='41-55'\n",
    "df.loc[(df['Age'] > 55), 'age_profile']='55+'\n",
    "df['age_profile'].value_counts(dropna = False) "
   ]
  },
  {
   "cell_type": "code",
   "execution_count": 27,
   "id": "6afc18d3",
   "metadata": {},
   "outputs": [
    {
     "data": {
      "image/png": "[encoded data removed]",
      "text/plain": [
       "<Figure size 640x480 with 1 Axes>"
      ]
     },
     "metadata": {},
     "output_type": "display_data"
    }
   ],
   "source": [
    "#age pie chart\n",
    "age_profile_pie=df['age_profile'].value_counts().plot.pie(title ='Age Profile', label = '', autopct=('%1.f%%'))"
   ]
  },
  {
   "cell_type": "code",
   "execution_count": 28,
   "id": "c3636831",
   "metadata": {},
   "outputs": [],
   "source": [
    "# exporting the pie\n",
    "age_profile_pie.figure.savefig(os.path.join(path, '04.Analysis','age_profile_pie.png'))"
   ]
  },
  {
   "cell_type": "code",
   "execution_count": 29,
   "id": "099712a5",
   "metadata": {},
   "outputs": [
    {
     "data": {
      "text/html": [
       "<div>\n",
       "<style scoped>\n",
       "    .dataframe tbody tr th:only-of-type {\n",
       "        vertical-align: middle;\n",
       "    }\n",
       "\n",
       "    .dataframe tbody tr th {\n",
       "        vertical-align: top;\n",
       "    }\n",
       "\n",
       "    .dataframe thead tr th {\n",
       "        text-align: left;\n",
       "    }\n",
       "\n",
       "    .dataframe thead tr:last-of-type th {\n",
       "        text-align: right;\n",
       "    }\n",
       "</style>\n",
       "<table border=\"1\" class=\"dataframe\">\n",
       "  <thead>\n",
       "    <tr>\n",
       "      <th></th>\n",
       "      <th colspan=\"3\" halign=\"left\">Order Interval</th>\n",
       "      <th colspan=\"4\" halign=\"left\">prices</th>\n",
       "    </tr>\n",
       "    <tr>\n",
       "      <th></th>\n",
       "      <th>min</th>\n",
       "      <th>max</th>\n",
       "      <th>mean</th>\n",
       "      <th>min</th>\n",
       "      <th>max</th>\n",
       "      <th>mean</th>\n",
       "      <th>sum</th>\n",
       "    </tr>\n",
       "    <tr>\n",
       "      <th>age_profile</th>\n",
       "      <th></th>\n",
       "      <th></th>\n",
       "      <th></th>\n",
       "      <th></th>\n",
       "      <th></th>\n",
       "      <th></th>\n",
       "      <th></th>\n",
       "    </tr>\n",
       "  </thead>\n",
       "  <tbody>\n",
       "    <tr>\n",
       "      <th>18-25</th>\n",
       "      <td>0.0</td>\n",
       "      <td>30.0</td>\n",
       "      <td>10.961530</td>\n",
       "      <td>1.0</td>\n",
       "      <td>99999.0</td>\n",
       "      <td>12.225039</td>\n",
       "      <td>45247646.0</td>\n",
       "    </tr>\n",
       "    <tr>\n",
       "      <th>26-40</th>\n",
       "      <td>0.0</td>\n",
       "      <td>30.0</td>\n",
       "      <td>10.992444</td>\n",
       "      <td>1.0</td>\n",
       "      <td>99999.0</td>\n",
       "      <td>11.951306</td>\n",
       "      <td>83333850.4</td>\n",
       "    </tr>\n",
       "    <tr>\n",
       "      <th>41-55</th>\n",
       "      <td>0.0</td>\n",
       "      <td>30.0</td>\n",
       "      <td>10.985597</td>\n",
       "      <td>1.0</td>\n",
       "      <td>99999.0</td>\n",
       "      <td>11.714668</td>\n",
       "      <td>81916130.0</td>\n",
       "    </tr>\n",
       "    <tr>\n",
       "      <th>55+</th>\n",
       "      <td>0.0</td>\n",
       "      <td>30.0</td>\n",
       "      <td>10.965596</td>\n",
       "      <td>1.0</td>\n",
       "      <td>99999.0</td>\n",
       "      <td>11.946801</td>\n",
       "      <td>142956802.7</td>\n",
       "    </tr>\n",
       "  </tbody>\n",
       "</table>\n",
       "</div>"
      ],
      "text/plain": [
       "            Order Interval                  prices                      \\\n",
       "                       min   max       mean    min      max       mean   \n",
       "age_profile                                                              \n",
       "18-25                  0.0  30.0  10.961530    1.0  99999.0  12.225039   \n",
       "26-40                  0.0  30.0  10.992444    1.0  99999.0  11.951306   \n",
       "41-55                  0.0  30.0  10.985597    1.0  99999.0  11.714668   \n",
       "55+                    0.0  30.0  10.965596    1.0  99999.0  11.946801   \n",
       "\n",
       "                          \n",
       "                     sum  \n",
       "age_profile               \n",
       "18-25         45247646.0  \n",
       "26-40         83333850.4  \n",
       "41-55         81916130.0  \n",
       "55+          142956802.7  "
      ]
     },
     "execution_count": 29,
     "metadata": {},
     "output_type": "execute_result"
    }
   ],
   "source": [
    "#Age statistics\n",
    "age_sums = df.groupby(['age_profile']).agg({'Order Interval' : ['min', 'max', 'mean'], 'prices' : ['min', 'max', 'mean', 'sum']})\n",
    "age_sums"
   ]
  },
  {
   "cell_type": "markdown",
   "id": "ad86667c",
   "metadata": {},
   "source": [
    "Customers in all age profiles have roughly 11 days in between their orders."
   ]
  },
  {
   "cell_type": "code",
   "execution_count": 30,
   "id": "ae366ff2",
   "metadata": {},
   "outputs": [],
   "source": [
    "#crosstab between ages and regions\n",
    "crosstab_region_age = pd.crosstab(df['region'], df['age_profile'], dropna = False)"
   ]
  },
  {
   "cell_type": "code",
   "execution_count": 31,
   "id": "dfac7bb0",
   "metadata": {
    "scrolled": false
   },
   "outputs": [
    {
     "data": {
      "image/png": "[encoded data removed]",
      "text/plain": [
       "<Figure size 640x480 with 1 Axes>"
      ]
     },
     "metadata": {},
     "output_type": "display_data"
    }
   ],
   "source": [
    "#create a stacked bar chart\n",
    "region_age = crosstab_region_age.plot(kind = 'barh', color = sns.color_palette('Blues', 4))\n",
    "plt.legend(loc='lower right')\n",
    "plt.ylabel('Regions', fontweight = 'bold')\n",
    "plt.title('Age Profiles by Region', fontweight = 'bold')\n",
    "plt.show()"
   ]
  },
  {
   "cell_type": "code",
   "execution_count": 32,
   "id": "1af53c49",
   "metadata": {},
   "outputs": [],
   "source": [
    "# exporting the bar\n",
    "region_age.figure.savefig(os.path.join(path, '04.Analysis','region_age_bar.png'))"
   ]
  },
  {
   "cell_type": "markdown",
   "id": "69f32887",
   "metadata": {},
   "source": [
    "Department"
   ]
  },
  {
   "cell_type": "code",
   "execution_count": 35,
   "id": "65679a9b",
   "metadata": {},
   "outputs": [],
   "source": [
    "#import department dataframe\n",
    "df_dep=pd.read_csv(os.path.join(path,'02.Data','Prepared data','departments_wrangled.csv'))"
   ]
  },
  {
   "cell_type": "code",
   "execution_count": 36,
   "id": "f9f23d89",
   "metadata": {},
   "outputs": [],
   "source": [
    "df_dep.rename(columns={'Unnamed: 0':'department_id'},inplace=True)"
   ]
  },
  {
   "cell_type": "code",
   "execution_count": 37,
   "id": "875c3ed9",
   "metadata": {},
   "outputs": [
    {
     "data": {
      "text/html": [
       "<div>\n",
       "<style scoped>\n",
       "    .dataframe tbody tr th:only-of-type {\n",
       "        vertical-align: middle;\n",
       "    }\n",
       "\n",
       "    .dataframe tbody tr th {\n",
       "        vertical-align: top;\n",
       "    }\n",
       "\n",
       "    .dataframe thead th {\n",
       "        text-align: right;\n",
       "    }\n",
       "</style>\n",
       "<table border=\"1\" class=\"dataframe\">\n",
       "  <thead>\n",
       "    <tr style=\"text-align: right;\">\n",
       "      <th></th>\n",
       "      <th>department_id</th>\n",
       "      <th>department</th>\n",
       "    </tr>\n",
       "  </thead>\n",
       "  <tbody>\n",
       "    <tr>\n",
       "      <th>0</th>\n",
       "      <td>1</td>\n",
       "      <td>frozen</td>\n",
       "    </tr>\n",
       "    <tr>\n",
       "      <th>1</th>\n",
       "      <td>2</td>\n",
       "      <td>other</td>\n",
       "    </tr>\n",
       "    <tr>\n",
       "      <th>2</th>\n",
       "      <td>3</td>\n",
       "      <td>bakery</td>\n",
       "    </tr>\n",
       "    <tr>\n",
       "      <th>3</th>\n",
       "      <td>4</td>\n",
       "      <td>produce</td>\n",
       "    </tr>\n",
       "    <tr>\n",
       "      <th>4</th>\n",
       "      <td>5</td>\n",
       "      <td>alcohol</td>\n",
       "    </tr>\n",
       "    <tr>\n",
       "      <th>5</th>\n",
       "      <td>6</td>\n",
       "      <td>international</td>\n",
       "    </tr>\n",
       "    <tr>\n",
       "      <th>6</th>\n",
       "      <td>7</td>\n",
       "      <td>beverages</td>\n",
       "    </tr>\n",
       "    <tr>\n",
       "      <th>7</th>\n",
       "      <td>8</td>\n",
       "      <td>pets</td>\n",
       "    </tr>\n",
       "    <tr>\n",
       "      <th>8</th>\n",
       "      <td>9</td>\n",
       "      <td>dry goods pasta</td>\n",
       "    </tr>\n",
       "    <tr>\n",
       "      <th>9</th>\n",
       "      <td>10</td>\n",
       "      <td>bulk</td>\n",
       "    </tr>\n",
       "    <tr>\n",
       "      <th>10</th>\n",
       "      <td>11</td>\n",
       "      <td>personal care</td>\n",
       "    </tr>\n",
       "    <tr>\n",
       "      <th>11</th>\n",
       "      <td>12</td>\n",
       "      <td>meat seafood</td>\n",
       "    </tr>\n",
       "    <tr>\n",
       "      <th>12</th>\n",
       "      <td>13</td>\n",
       "      <td>pantry</td>\n",
       "    </tr>\n",
       "    <tr>\n",
       "      <th>13</th>\n",
       "      <td>14</td>\n",
       "      <td>breakfast</td>\n",
       "    </tr>\n",
       "    <tr>\n",
       "      <th>14</th>\n",
       "      <td>15</td>\n",
       "      <td>canned goods</td>\n",
       "    </tr>\n",
       "    <tr>\n",
       "      <th>15</th>\n",
       "      <td>16</td>\n",
       "      <td>dairy eggs</td>\n",
       "    </tr>\n",
       "    <tr>\n",
       "      <th>16</th>\n",
       "      <td>17</td>\n",
       "      <td>household</td>\n",
       "    </tr>\n",
       "    <tr>\n",
       "      <th>17</th>\n",
       "      <td>18</td>\n",
       "      <td>babies</td>\n",
       "    </tr>\n",
       "    <tr>\n",
       "      <th>18</th>\n",
       "      <td>19</td>\n",
       "      <td>snacks</td>\n",
       "    </tr>\n",
       "    <tr>\n",
       "      <th>19</th>\n",
       "      <td>20</td>\n",
       "      <td>deli</td>\n",
       "    </tr>\n",
       "    <tr>\n",
       "      <th>20</th>\n",
       "      <td>21</td>\n",
       "      <td>missing</td>\n",
       "    </tr>\n",
       "  </tbody>\n",
       "</table>\n",
       "</div>"
      ],
      "text/plain": [
       "    department_id       department\n",
       "0               1           frozen\n",
       "1               2            other\n",
       "2               3           bakery\n",
       "3               4          produce\n",
       "4               5          alcohol\n",
       "5               6    international\n",
       "6               7        beverages\n",
       "7               8             pets\n",
       "8               9  dry goods pasta\n",
       "9              10             bulk\n",
       "10             11    personal care\n",
       "11             12     meat seafood\n",
       "12             13           pantry\n",
       "13             14        breakfast\n",
       "14             15     canned goods\n",
       "15             16       dairy eggs\n",
       "16             17        household\n",
       "17             18           babies\n",
       "18             19           snacks\n",
       "19             20             deli\n",
       "20             21          missing"
      ]
     },
     "execution_count": 37,
     "metadata": {},
     "output_type": "execute_result"
    }
   ],
   "source": [
    "df_dep"
   ]
  },
  {
   "cell_type": "code",
   "execution_count": 38,
   "id": "1e5c55a3",
   "metadata": {},
   "outputs": [],
   "source": [
    "# merge departments dataframe with df dataframe\n",
    "df_all = df.merge(df_dep, on = 'department_id')"
   ]
  },
  {
   "cell_type": "code",
   "execution_count": 39,
   "id": "bac57c6e",
   "metadata": {},
   "outputs": [
    {
     "data": {
      "text/html": [
       "<div>\n",
       "<style scoped>\n",
       "    .dataframe tbody tr th:only-of-type {\n",
       "        vertical-align: middle;\n",
       "    }\n",
       "\n",
       "    .dataframe tbody tr th {\n",
       "        vertical-align: top;\n",
       "    }\n",
       "\n",
       "    .dataframe thead th {\n",
       "        text-align: right;\n",
       "    }\n",
       "</style>\n",
       "<table border=\"1\" class=\"dataframe\">\n",
       "  <thead>\n",
       "    <tr style=\"text-align: right;\">\n",
       "      <th></th>\n",
       "      <th>order_id</th>\n",
       "      <th>user_id</th>\n",
       "      <th>eval_set</th>\n",
       "      <th>order_number</th>\n",
       "      <th>orders_day_of_week</th>\n",
       "      <th>order_hour_of_day</th>\n",
       "      <th>Order Interval</th>\n",
       "      <th>product_id</th>\n",
       "      <th>add_to_cart_order</th>\n",
       "      <th>reordered</th>\n",
       "      <th>...</th>\n",
       "      <th>STATE</th>\n",
       "      <th>Age</th>\n",
       "      <th>dependants</th>\n",
       "      <th>fam_status</th>\n",
       "      <th>income</th>\n",
       "      <th>True</th>\n",
       "      <th>region</th>\n",
       "      <th>low_order_flag</th>\n",
       "      <th>age_profile</th>\n",
       "      <th>department</th>\n",
       "    </tr>\n",
       "  </thead>\n",
       "  <tbody>\n",
       "    <tr>\n",
       "      <th>0</th>\n",
       "      <td>2968173</td>\n",
       "      <td>15</td>\n",
       "      <td>prior</td>\n",
       "      <td>15</td>\n",
       "      <td>1</td>\n",
       "      <td>9</td>\n",
       "      <td>7.0</td>\n",
       "      <td>196</td>\n",
       "      <td>2</td>\n",
       "      <td>0</td>\n",
       "      <td>...</td>\n",
       "      <td>Indiana</td>\n",
       "      <td>69</td>\n",
       "      <td>0</td>\n",
       "      <td>divorced/widowed</td>\n",
       "      <td>54313</td>\n",
       "      <td>both</td>\n",
       "      <td>midwest</td>\n",
       "      <td>High order customer</td>\n",
       "      <td>55+</td>\n",
       "      <td>beverages</td>\n",
       "    </tr>\n",
       "    <tr>\n",
       "      <th>1</th>\n",
       "      <td>1870022</td>\n",
       "      <td>15</td>\n",
       "      <td>prior</td>\n",
       "      <td>17</td>\n",
       "      <td>2</td>\n",
       "      <td>16</td>\n",
       "      <td>8.0</td>\n",
       "      <td>196</td>\n",
       "      <td>6</td>\n",
       "      <td>1</td>\n",
       "      <td>...</td>\n",
       "      <td>Indiana</td>\n",
       "      <td>69</td>\n",
       "      <td>0</td>\n",
       "      <td>divorced/widowed</td>\n",
       "      <td>54313</td>\n",
       "      <td>both</td>\n",
       "      <td>midwest</td>\n",
       "      <td>High order customer</td>\n",
       "      <td>55+</td>\n",
       "      <td>beverages</td>\n",
       "    </tr>\n",
       "    <tr>\n",
       "      <th>2</th>\n",
       "      <td>1911383</td>\n",
       "      <td>15</td>\n",
       "      <td>prior</td>\n",
       "      <td>18</td>\n",
       "      <td>2</td>\n",
       "      <td>11</td>\n",
       "      <td>7.0</td>\n",
       "      <td>196</td>\n",
       "      <td>1</td>\n",
       "      <td>1</td>\n",
       "      <td>...</td>\n",
       "      <td>Indiana</td>\n",
       "      <td>69</td>\n",
       "      <td>0</td>\n",
       "      <td>divorced/widowed</td>\n",
       "      <td>54313</td>\n",
       "      <td>both</td>\n",
       "      <td>midwest</td>\n",
       "      <td>High order customer</td>\n",
       "      <td>55+</td>\n",
       "      <td>beverages</td>\n",
       "    </tr>\n",
       "    <tr>\n",
       "      <th>3</th>\n",
       "      <td>2715276</td>\n",
       "      <td>15</td>\n",
       "      <td>prior</td>\n",
       "      <td>21</td>\n",
       "      <td>1</td>\n",
       "      <td>9</td>\n",
       "      <td>7.0</td>\n",
       "      <td>196</td>\n",
       "      <td>1</td>\n",
       "      <td>1</td>\n",
       "      <td>...</td>\n",
       "      <td>Indiana</td>\n",
       "      <td>69</td>\n",
       "      <td>0</td>\n",
       "      <td>divorced/widowed</td>\n",
       "      <td>54313</td>\n",
       "      <td>both</td>\n",
       "      <td>midwest</td>\n",
       "      <td>High order customer</td>\n",
       "      <td>55+</td>\n",
       "      <td>beverages</td>\n",
       "    </tr>\n",
       "    <tr>\n",
       "      <th>4</th>\n",
       "      <td>487368</td>\n",
       "      <td>15</td>\n",
       "      <td>prior</td>\n",
       "      <td>22</td>\n",
       "      <td>1</td>\n",
       "      <td>10</td>\n",
       "      <td>14.0</td>\n",
       "      <td>196</td>\n",
       "      <td>1</td>\n",
       "      <td>1</td>\n",
       "      <td>...</td>\n",
       "      <td>Indiana</td>\n",
       "      <td>69</td>\n",
       "      <td>0</td>\n",
       "      <td>divorced/widowed</td>\n",
       "      <td>54313</td>\n",
       "      <td>both</td>\n",
       "      <td>midwest</td>\n",
       "      <td>High order customer</td>\n",
       "      <td>55+</td>\n",
       "      <td>beverages</td>\n",
       "    </tr>\n",
       "  </tbody>\n",
       "</table>\n",
       "<p>5 rows × 35 columns</p>\n",
       "</div>"
      ],
      "text/plain": [
       "   order_id user_id eval_set  order_number  orders_day_of_week  \\\n",
       "0   2968173      15    prior            15                   1   \n",
       "1   1870022      15    prior            17                   2   \n",
       "2   1911383      15    prior            18                   2   \n",
       "3   2715276      15    prior            21                   1   \n",
       "4    487368      15    prior            22                   1   \n",
       "\n",
       "   order_hour_of_day  Order Interval  product_id  add_to_cart_order  \\\n",
       "0                  9             7.0         196                  2   \n",
       "1                 16             8.0         196                  6   \n",
       "2                 11             7.0         196                  1   \n",
       "3                  9             7.0         196                  1   \n",
       "4                 10            14.0         196                  1   \n",
       "\n",
       "   reordered  ...    STATE  Age  dependants        fam_status income  True  \\\n",
       "0          0  ...  Indiana   69           0  divorced/widowed  54313  both   \n",
       "1          1  ...  Indiana   69           0  divorced/widowed  54313  both   \n",
       "2          1  ...  Indiana   69           0  divorced/widowed  54313  both   \n",
       "3          1  ...  Indiana   69           0  divorced/widowed  54313  both   \n",
       "4          1  ...  Indiana   69           0  divorced/widowed  54313  both   \n",
       "\n",
       "    region       low_order_flag  age_profile department  \n",
       "0  midwest  High order customer          55+  beverages  \n",
       "1  midwest  High order customer          55+  beverages  \n",
       "2  midwest  High order customer          55+  beverages  \n",
       "3  midwest  High order customer          55+  beverages  \n",
       "4  midwest  High order customer          55+  beverages  \n",
       "\n",
       "[5 rows x 35 columns]"
      ]
     },
     "execution_count": 39,
     "metadata": {},
     "output_type": "execute_result"
    }
   ],
   "source": [
    "df_all.head()"
   ]
  },
  {
   "cell_type": "code",
   "execution_count": 40,
   "id": "2ff97b17",
   "metadata": {
    "scrolled": true
   },
   "outputs": [],
   "source": [
    "#create crosstab of age and department\n",
    "crosstab_dept_age = pd.crosstab(df_all['department'], df_all['age_profile'], dropna = False)"
   ]
  },
  {
   "cell_type": "code",
   "execution_count": 41,
   "id": "389973d3",
   "metadata": {
    "scrolled": true
   },
   "outputs": [
    {
     "data": {
      "image/png": "[encoded data removed]",
      "text/plain": [
       "<Figure size 640x480 with 1 Axes>"
      ]
     },
     "metadata": {},
     "output_type": "display_data"
    }
   ],
   "source": [
    "#bar chart of age group and department\n",
    "dept_age = crosstab_dept_age.plot(kind = 'barh', stacked = True, color = sns.color_palette('Blues', 4))\n",
    "plt.legend(loc='lower right')\n",
    "plt.ylabel('Department', fontweight = 'bold')\n",
    "plt.title('Age Profile by Department', fontweight = 'bold')\n",
    "plt.show()"
   ]
  },
  {
   "cell_type": "markdown",
   "id": "92f3c82d",
   "metadata": {},
   "source": [
    "Produce, dairy eggs, and snacks are the top three departments across all age groups. "
   ]
  },
  {
   "cell_type": "code",
   "execution_count": 42,
   "id": "987ea315",
   "metadata": {},
   "outputs": [],
   "source": [
    "# exporting the bar\n",
    "dept_age .figure.savefig(os.path.join(path, '04.Analysis','dept_age_bar.png'))"
   ]
  },
  {
   "cell_type": "markdown",
   "id": "e93a5086",
   "metadata": {},
   "source": [
    "Income profiles"
   ]
  },
  {
   "cell_type": "code",
   "execution_count": 46,
   "id": "d302903c",
   "metadata": {},
   "outputs": [
    {
     "data": {
      "text/plain": [
       "50k - 150k    22669306\n",
       "150k+          3715800\n",
       "<=50k          3247631\n",
       "Name: income_profile, dtype: int64"
      ]
     },
     "execution_count": 46,
     "metadata": {},
     "output_type": "execute_result"
    }
   ],
   "source": [
    "df_all.loc[(df_all['income'] <= 50000), 'income_profile'] = '<=50k'\n",
    "df_all.loc[(df_all['income'] > 50000) & (df_all['income'] <= 150000), 'income_profile'] = '50k - 150k'\n",
    "df_all.loc[(df_all['income'] > 150000), 'income_profile'] = '150k+'\n",
    "df_all['income_profile'].value_counts(dropna = False)"
   ]
  },
  {
   "cell_type": "markdown",
   "id": "680643c9",
   "metadata": {},
   "source": [
    "Main customers is that income profile from the 50k-150k  represent the highest revenue for Instacart."
   ]
  },
  {
   "cell_type": "code",
   "execution_count": 47,
   "id": "52c345d8",
   "metadata": {
    "scrolled": true
   },
   "outputs": [
    {
     "data": {
      "image/png": "[encoded data removed]",
      "text/plain": [
       "<Figure size 640x480 with 1 Axes>"
      ]
     },
     "metadata": {},
     "output_type": "display_data"
    }
   ],
   "source": [
    "#income profile pie chart\n",
    "income_profile_pie = df['income_profile'].value_counts().plot.pie(title ='Income Profile Chart', label = '', autopct=('%1.f%%'))"
   ]
  },
  {
   "cell_type": "code",
   "execution_count": 48,
   "id": "89b2695e",
   "metadata": {},
   "outputs": [
    {
     "data": {
      "text/html": [
       "<div>\n",
       "<style scoped>\n",
       "    .dataframe tbody tr th:only-of-type {\n",
       "        vertical-align: middle;\n",
       "    }\n",
       "\n",
       "    .dataframe tbody tr th {\n",
       "        vertical-align: top;\n",
       "    }\n",
       "\n",
       "    .dataframe thead tr th {\n",
       "        text-align: left;\n",
       "    }\n",
       "\n",
       "    .dataframe thead tr:last-of-type th {\n",
       "        text-align: right;\n",
       "    }\n",
       "</style>\n",
       "<table border=\"1\" class=\"dataframe\">\n",
       "  <thead>\n",
       "    <tr>\n",
       "      <th></th>\n",
       "      <th colspan=\"3\" halign=\"left\">Order Interval</th>\n",
       "      <th colspan=\"4\" halign=\"left\">prices</th>\n",
       "    </tr>\n",
       "    <tr>\n",
       "      <th></th>\n",
       "      <th>min</th>\n",
       "      <th>max</th>\n",
       "      <th>mean</th>\n",
       "      <th>min</th>\n",
       "      <th>max</th>\n",
       "      <th>mean</th>\n",
       "      <th>sum</th>\n",
       "    </tr>\n",
       "    <tr>\n",
       "      <th>income_profile</th>\n",
       "      <th></th>\n",
       "      <th></th>\n",
       "      <th></th>\n",
       "      <th></th>\n",
       "      <th></th>\n",
       "      <th></th>\n",
       "      <th></th>\n",
       "    </tr>\n",
       "  </thead>\n",
       "  <tbody>\n",
       "    <tr>\n",
       "      <th>150k+</th>\n",
       "      <td>0.0</td>\n",
       "      <td>30.0</td>\n",
       "      <td>10.812037</td>\n",
       "      <td>1.0</td>\n",
       "      <td>99999.0</td>\n",
       "      <td>32.793323</td>\n",
       "      <td>121853429.6</td>\n",
       "    </tr>\n",
       "    <tr>\n",
       "      <th>50k - 150k</th>\n",
       "      <td>0.0</td>\n",
       "      <td>30.0</td>\n",
       "      <td>10.934084</td>\n",
       "      <td>1.0</td>\n",
       "      <td>99999.0</td>\n",
       "      <td>9.256760</td>\n",
       "      <td>209844332.0</td>\n",
       "    </tr>\n",
       "    <tr>\n",
       "      <th>&lt;=50k</th>\n",
       "      <td>0.0</td>\n",
       "      <td>30.0</td>\n",
       "      <td>11.457331</td>\n",
       "      <td>1.0</td>\n",
       "      <td>25.0</td>\n",
       "      <td>6.699242</td>\n",
       "      <td>21756667.5</td>\n",
       "    </tr>\n",
       "  </tbody>\n",
       "</table>\n",
       "</div>"
      ],
      "text/plain": [
       "               Order Interval                  prices                      \\\n",
       "                          min   max       mean    min      max       mean   \n",
       "income_profile                                                              \n",
       "150k+                     0.0  30.0  10.812037    1.0  99999.0  32.793323   \n",
       "50k - 150k                0.0  30.0  10.934084    1.0  99999.0   9.256760   \n",
       "<=50k                     0.0  30.0  11.457331    1.0     25.0   6.699242   \n",
       "\n",
       "                             \n",
       "                        sum  \n",
       "income_profile               \n",
       "150k+           121853429.6  \n",
       "50k - 150k      209844332.0  \n",
       "<=50k            21756667.5  "
      ]
     },
     "execution_count": 48,
     "metadata": {},
     "output_type": "execute_result"
    }
   ],
   "source": [
    "#income statistics\n",
    "income_sums = df_all.groupby(['income_profile']).agg({'Order Interval' : ['min', 'max', 'mean'], 'prices' : ['min', 'max', 'mean', 'sum']})\n",
    "income_sums"
   ]
  },
  {
   "cell_type": "code",
   "execution_count": 49,
   "id": "284172a8",
   "metadata": {},
   "outputs": [],
   "source": [
    "# exporting the pie\n",
    "income_profile_pie.figure.savefig(os.path.join(path, '04.Analysis','income_profile_pie.png'))"
   ]
  },
  {
   "cell_type": "markdown",
   "id": "8e0b5bcc",
   "metadata": {},
   "source": [
    "Customers in the 50k-150k income group represent the majority."
   ]
  },
  {
   "cell_type": "code",
   "execution_count": 50,
   "id": "e1ea9209",
   "metadata": {
    "scrolled": true
   },
   "outputs": [],
   "source": [
    "#create crosstab of regions and income grouos\n",
    "crosstab_region_income = pd.crosstab(df_all['region'], df_all['income_profile'], dropna = False)"
   ]
  },
  {
   "cell_type": "code",
   "execution_count": 51,
   "id": "9081967c",
   "metadata": {},
   "outputs": [
    {
     "data": {
      "image/png": "[encoded data removed]",
      "text/plain": [
       "<Figure size 640x480 with 1 Axes>"
      ]
     },
     "metadata": {},
     "output_type": "display_data"
    }
   ],
   "source": [
    "#bar chart of the regions broken down by income groups\n",
    "region_income = crosstab_region_income.plot(kind = 'barh', color = sns.color_palette('Blues', 3))\n",
    "plt.legend(loc='lower right')\n",
    "plt.ylabel('Regions', fontweight = 'bold')\n",
    "plt.title('Income Profile by Region', fontweight = 'bold')\n",
    "plt.show()"
   ]
  },
  {
   "cell_type": "code",
   "execution_count": 52,
   "id": "f89b075b",
   "metadata": {},
   "outputs": [],
   "source": [
    "# exporting the bar\n",
    "region_income.figure.savefig(os.path.join(path, '04.Analysis','region_income_bar.png'))"
   ]
  },
  {
   "cell_type": "code",
   "execution_count": 53,
   "id": "269da166",
   "metadata": {},
   "outputs": [],
   "source": [
    "#create a crosstab of department and income groups\n",
    "crosstab_dept_income = pd.crosstab(df_all['department'], df_all['income_profile'], dropna = False)"
   ]
  },
  {
   "cell_type": "code",
   "execution_count": 54,
   "id": "9ffb2c4a",
   "metadata": {},
   "outputs": [
    {
     "data": {
      "image/png": "[encoded data removed]",
      "text/plain": [
       "<Figure size 640x480 with 1 Axes>"
      ]
     },
     "metadata": {},
     "output_type": "display_data"
    }
   ],
   "source": [
    "#bar chart of department group by income \n",
    "dept_income = crosstab_dept_income.plot(kind = 'barh', stacked = True, color = sns.color_palette('Blues', 3))\n",
    "plt.legend(loc='lower right')\n",
    "plt.ylabel('Department', fontweight = 'bold')\n",
    "plt.title('Income Profile by Department', fontweight = 'bold')\n",
    "plt.show()"
   ]
  },
  {
   "cell_type": "code",
   "execution_count": 55,
   "id": "3d9392c5",
   "metadata": {},
   "outputs": [],
   "source": [
    "# exporting the bar\n",
    "dept_income.figure.savefig(os.path.join(path, '04.Analysis','dept_income_bar.png'))"
   ]
  },
  {
   "cell_type": "markdown",
   "id": "79589cf5",
   "metadata": {},
   "source": [
    "Produce and dairy are the top two departments across the income profiles."
   ]
  },
  {
   "cell_type": "code",
   "execution_count": 56,
   "id": "1260bd79",
   "metadata": {},
   "outputs": [],
   "source": [
    "#create crosstab of regions and income grouos\n",
    "crosstab_region_income = pd.crosstab(df_all['region'], df_all['income_profile'], dropna = False)"
   ]
  },
  {
   "cell_type": "code",
   "execution_count": 57,
   "id": "cc2eca9f",
   "metadata": {
    "scrolled": true
   },
   "outputs": [
    {
     "data": {
      "image/png": "[encoded data removed]",
      "text/plain": [
       "<Figure size 640x480 with 1 Axes>"
      ]
     },
     "metadata": {},
     "output_type": "display_data"
    }
   ],
   "source": [
    "#bar chart of the regions broken down by income groups\n",
    "region_income = crosstab_region_income.plot(kind = 'barh', color = sns.color_palette('Blues', 3))\n",
    "plt.legend(loc='lower right')\n",
    "plt.ylabel('Regions', fontweight = 'bold')\n",
    "plt.title('Income Profile by Region', fontweight = 'bold')\n",
    "plt.show()"
   ]
  },
  {
   "cell_type": "markdown",
   "id": "72038aee",
   "metadata": {},
   "source": [
    "Family Status Profiles"
   ]
  },
  {
   "cell_type": "code",
   "execution_count": 58,
   "id": "312f263e",
   "metadata": {},
   "outputs": [
    {
     "data": {
      "text/plain": [
       "Family          22227640\n",
       "Single Adult     7405097\n",
       "Name: family_profile, dtype: int64"
      ]
     },
     "execution_count": 58,
     "metadata": {},
     "output_type": "execute_result"
    }
   ],
   "source": [
    "df_all.loc[(df_all['dependants'] == 0), 'family_profile'] = 'Single Adult'\n",
    "df_all.loc[(df_all['dependants'] != 0), 'family_profile'] = 'Family'\n",
    "df_all['family_profile'].value_counts(dropna = False)"
   ]
  },
  {
   "cell_type": "code",
   "execution_count": 59,
   "id": "790fdac8",
   "metadata": {},
   "outputs": [
    {
     "data": {
      "image/png": "[encoded data removed]",
      "text/plain": [
       "<Figure size 640x480 with 1 Axes>"
      ]
     },
     "metadata": {},
     "output_type": "display_data"
    }
   ],
   "source": [
    "#Family status pie chart\n",
    "family_profile_pie = df_all['family_profile'].value_counts().plot.pie(title = 'Family Profile Chart', label = '', autopct = ('%1.f%%'))"
   ]
  },
  {
   "cell_type": "code",
   "execution_count": 60,
   "id": "08f98c90",
   "metadata": {},
   "outputs": [],
   "source": [
    "# exporting the pie\n",
    "family_profile_pie.figure.savefig(os.path.join(path, '04.Analysis','family_profile_pie.png'))"
   ]
  },
  {
   "cell_type": "code",
   "execution_count": 61,
   "id": "4a2a35d0",
   "metadata": {},
   "outputs": [
    {
     "data": {
      "text/html": [
       "<div>\n",
       "<style scoped>\n",
       "    .dataframe tbody tr th:only-of-type {\n",
       "        vertical-align: middle;\n",
       "    }\n",
       "\n",
       "    .dataframe tbody tr th {\n",
       "        vertical-align: top;\n",
       "    }\n",
       "\n",
       "    .dataframe thead tr th {\n",
       "        text-align: left;\n",
       "    }\n",
       "\n",
       "    .dataframe thead tr:last-of-type th {\n",
       "        text-align: right;\n",
       "    }\n",
       "</style>\n",
       "<table border=\"1\" class=\"dataframe\">\n",
       "  <thead>\n",
       "    <tr>\n",
       "      <th></th>\n",
       "      <th colspan=\"3\" halign=\"left\">Order Interval</th>\n",
       "      <th colspan=\"4\" halign=\"left\">prices</th>\n",
       "    </tr>\n",
       "    <tr>\n",
       "      <th></th>\n",
       "      <th>min</th>\n",
       "      <th>max</th>\n",
       "      <th>mean</th>\n",
       "      <th>min</th>\n",
       "      <th>max</th>\n",
       "      <th>mean</th>\n",
       "      <th>sum</th>\n",
       "    </tr>\n",
       "    <tr>\n",
       "      <th>family_profile</th>\n",
       "      <th></th>\n",
       "      <th></th>\n",
       "      <th></th>\n",
       "      <th></th>\n",
       "      <th></th>\n",
       "      <th></th>\n",
       "      <th></th>\n",
       "    </tr>\n",
       "  </thead>\n",
       "  <tbody>\n",
       "    <tr>\n",
       "      <th>Family</th>\n",
       "      <td>0.0</td>\n",
       "      <td>30.0</td>\n",
       "      <td>10.984938</td>\n",
       "      <td>1.0</td>\n",
       "      <td>99999.0</td>\n",
       "      <td>11.936914</td>\n",
       "      <td>265329416.2</td>\n",
       "    </tr>\n",
       "    <tr>\n",
       "      <th>Single Adult</th>\n",
       "      <td>0.0</td>\n",
       "      <td>30.0</td>\n",
       "      <td>10.949673</td>\n",
       "      <td>1.0</td>\n",
       "      <td>99999.0</td>\n",
       "      <td>11.900589</td>\n",
       "      <td>88125012.9</td>\n",
       "    </tr>\n",
       "  </tbody>\n",
       "</table>\n",
       "</div>"
      ],
      "text/plain": [
       "               Order Interval                  prices                      \\\n",
       "                          min   max       mean    min      max       mean   \n",
       "family_profile                                                              \n",
       "Family                    0.0  30.0  10.984938    1.0  99999.0  11.936914   \n",
       "Single Adult              0.0  30.0  10.949673    1.0  99999.0  11.900589   \n",
       "\n",
       "                             \n",
       "                        sum  \n",
       "family_profile               \n",
       "Family          265329416.2  \n",
       "Single Adult     88125012.9  "
      ]
     },
     "execution_count": 61,
     "metadata": {},
     "output_type": "execute_result"
    }
   ],
   "source": [
    "#family status statistics\n",
    "family_sums = df_all.groupby(['family_profile']).agg({'Order Interval': ['min', 'max', 'mean'], 'prices' : ['min', 'max', 'mean', 'sum']})\n",
    "family_sums"
   ]
  },
  {
   "cell_type": "code",
   "execution_count": 62,
   "id": "2ef40084",
   "metadata": {},
   "outputs": [],
   "source": [
    "#Crosstab of families and regions\n",
    "crosstab_region_family = pd.crosstab(df_all['region'], df_all['family_profile'], dropna = False)"
   ]
  },
  {
   "cell_type": "code",
   "execution_count": 63,
   "id": "75a8b4a2",
   "metadata": {},
   "outputs": [
    {
     "data": {
      "image/png": "[encoded data removed]",
      "text/plain": [
       "<Figure size 640x480 with 1 Axes>"
      ]
     },
     "metadata": {},
     "output_type": "display_data"
    }
   ],
   "source": [
    "#bar chart of family groups across the regions\n",
    "region_family = crosstab_region_family.plot(kind = 'barh', color = sns.color_palette('Blues', 2))\n",
    "plt.legend(loc='lower right')\n",
    "plt.ylabel('Regions', fontweight = 'bold')\n",
    "plt.title('Family Profile by Region', fontweight = 'bold')\n",
    "plt.show()"
   ]
  },
  {
   "cell_type": "markdown",
   "id": "06182ead",
   "metadata": {},
   "source": [
    "The south Families are  highest them others."
   ]
  },
  {
   "cell_type": "code",
   "execution_count": 64,
   "id": "6c15b237",
   "metadata": {},
   "outputs": [],
   "source": [
    "# exporting the bar\n",
    "region_family.figure.savefig(os.path.join(path, '04.Analysis','region_family_bar.png'))"
   ]
  },
  {
   "cell_type": "code",
   "execution_count": 65,
   "id": "39dbe2c4",
   "metadata": {},
   "outputs": [],
   "source": [
    "#crosstab of family profile and department\n",
    "crosstab_dept_family = pd.crosstab(df_all['department'], df_all['family_profile'], dropna = False)"
   ]
  },
  {
   "cell_type": "code",
   "execution_count": 66,
   "id": "e03e872d",
   "metadata": {},
   "outputs": [
    {
     "data": {
      "image/png": "[encoded data removed]",
      "text/plain": [
       "<Figure size 640x480 with 1 Axes>"
      ]
     },
     "metadata": {},
     "output_type": "display_data"
    }
   ],
   "source": [
    "#stacked bar chart of family profiles by department\n",
    "dept_family = crosstab_dept_family.plot(kind = 'barh', stacked = True, color = sns.color_palette('Blues', 2))\n",
    "plt.legend(loc='lower right')\n",
    "plt.ylabel('Department', fontweight = 'bold')\n",
    "plt.title('Family Profile by Department', fontweight = 'bold')\n",
    "plt.show()"
   ]
  },
  {
   "cell_type": "code",
   "execution_count": 67,
   "id": "246ba7bc",
   "metadata": {},
   "outputs": [],
   "source": [
    "# exporting the bar\n",
    "dept_family.figure.savefig(os.path.join(path, '04.Analysis','dept_family_bar.png'))"
   ]
  },
  {
   "cell_type": "markdown",
   "id": "c8a67a07",
   "metadata": {},
   "source": [
    "# Profiling orders from each day of the week"
   ]
  },
  {
   "cell_type": "code",
   "execution_count": 68,
   "id": "1baec297",
   "metadata": {},
   "outputs": [
    {
     "data": {
      "text/plain": [
       "0    5639396\n",
       "1    5186103\n",
       "6    4088911\n",
       "5    3867518\n",
       "2    3854148\n",
       "3    3520775\n",
       "4    3475886\n",
       "Name: orders_day_of_week, dtype: int64"
      ]
     },
     "execution_count": 68,
     "metadata": {},
     "output_type": "execute_result"
    }
   ],
   "source": [
    "df_all['orders_day_of_week'].value_counts(dropna = False)"
   ]
  },
  {
   "cell_type": "code",
   "execution_count": 69,
   "id": "8200c49d",
   "metadata": {},
   "outputs": [
    {
     "data": {
      "image/png": "[encoded data removed]",
      "text/plain": [
       "<Figure size 640x480 with 1 Axes>"
      ]
     },
     "metadata": {},
     "output_type": "display_data"
    }
   ],
   "source": [
    "#Pie chart of orders for each day of the week\n",
    "day_of_week_pie = df_all['orders_day_of_week'].value_counts().plot.pie(title = 'Day of Week Profile', label = '', autopct = ('%1.f%%'))"
   ]
  },
  {
   "cell_type": "markdown",
   "id": "b9fd44b1",
   "metadata": {},
   "source": [
    "Saturday,the the day of the week with the highest orders."
   ]
  },
  {
   "cell_type": "code",
   "execution_count": 70,
   "id": "d04234e2",
   "metadata": {},
   "outputs": [
    {
     "data": {
      "text/html": [
       "<div>\n",
       "<style scoped>\n",
       "    .dataframe tbody tr th:only-of-type {\n",
       "        vertical-align: middle;\n",
       "    }\n",
       "\n",
       "    .dataframe tbody tr th {\n",
       "        vertical-align: top;\n",
       "    }\n",
       "\n",
       "    .dataframe thead tr th {\n",
       "        text-align: left;\n",
       "    }\n",
       "\n",
       "    .dataframe thead tr:last-of-type th {\n",
       "        text-align: right;\n",
       "    }\n",
       "</style>\n",
       "<table border=\"1\" class=\"dataframe\">\n",
       "  <thead>\n",
       "    <tr>\n",
       "      <th></th>\n",
       "      <th colspan=\"3\" halign=\"left\">Order Interval</th>\n",
       "      <th colspan=\"4\" halign=\"left\">prices</th>\n",
       "    </tr>\n",
       "    <tr>\n",
       "      <th></th>\n",
       "      <th>min</th>\n",
       "      <th>max</th>\n",
       "      <th>mean</th>\n",
       "      <th>min</th>\n",
       "      <th>max</th>\n",
       "      <th>mean</th>\n",
       "      <th>sum</th>\n",
       "    </tr>\n",
       "    <tr>\n",
       "      <th>orders_day_of_week</th>\n",
       "      <th></th>\n",
       "      <th></th>\n",
       "      <th></th>\n",
       "      <th></th>\n",
       "      <th></th>\n",
       "      <th></th>\n",
       "      <th></th>\n",
       "    </tr>\n",
       "  </thead>\n",
       "  <tbody>\n",
       "    <tr>\n",
       "      <th>0</th>\n",
       "      <td>0.0</td>\n",
       "      <td>30.0</td>\n",
       "      <td>11.488120</td>\n",
       "      <td>1.0</td>\n",
       "      <td>99999.0</td>\n",
       "      <td>11.146519</td>\n",
       "      <td>62859635.8</td>\n",
       "    </tr>\n",
       "    <tr>\n",
       "      <th>1</th>\n",
       "      <td>0.0</td>\n",
       "      <td>30.0</td>\n",
       "      <td>11.173391</td>\n",
       "      <td>1.0</td>\n",
       "      <td>99999.0</td>\n",
       "      <td>12.115434</td>\n",
       "      <td>62831887.1</td>\n",
       "    </tr>\n",
       "    <tr>\n",
       "      <th>2</th>\n",
       "      <td>0.0</td>\n",
       "      <td>30.0</td>\n",
       "      <td>11.144860</td>\n",
       "      <td>1.0</td>\n",
       "      <td>99999.0</td>\n",
       "      <td>12.355128</td>\n",
       "      <td>47618490.0</td>\n",
       "    </tr>\n",
       "    <tr>\n",
       "      <th>3</th>\n",
       "      <td>0.0</td>\n",
       "      <td>30.0</td>\n",
       "      <td>10.748278</td>\n",
       "      <td>1.0</td>\n",
       "      <td>99999.0</td>\n",
       "      <td>12.240052</td>\n",
       "      <td>43094467.4</td>\n",
       "    </tr>\n",
       "    <tr>\n",
       "      <th>4</th>\n",
       "      <td>0.0</td>\n",
       "      <td>30.0</td>\n",
       "      <td>10.419636</td>\n",
       "      <td>1.0</td>\n",
       "      <td>99999.0</td>\n",
       "      <td>12.059136</td>\n",
       "      <td>41916182.2</td>\n",
       "    </tr>\n",
       "    <tr>\n",
       "      <th>5</th>\n",
       "      <td>0.0</td>\n",
       "      <td>30.0</td>\n",
       "      <td>10.325913</td>\n",
       "      <td>1.0</td>\n",
       "      <td>99999.0</td>\n",
       "      <td>12.817517</td>\n",
       "      <td>49571977.0</td>\n",
       "    </tr>\n",
       "    <tr>\n",
       "      <th>6</th>\n",
       "      <td>0.0</td>\n",
       "      <td>30.0</td>\n",
       "      <td>11.144996</td>\n",
       "      <td>1.0</td>\n",
       "      <td>99999.0</td>\n",
       "      <td>11.142769</td>\n",
       "      <td>45561789.6</td>\n",
       "    </tr>\n",
       "  </tbody>\n",
       "</table>\n",
       "</div>"
      ],
      "text/plain": [
       "                   Order Interval                  prices                      \\\n",
       "                              min   max       mean    min      max       mean   \n",
       "orders_day_of_week                                                              \n",
       "0                             0.0  30.0  11.488120    1.0  99999.0  11.146519   \n",
       "1                             0.0  30.0  11.173391    1.0  99999.0  12.115434   \n",
       "2                             0.0  30.0  11.144860    1.0  99999.0  12.355128   \n",
       "3                             0.0  30.0  10.748278    1.0  99999.0  12.240052   \n",
       "4                             0.0  30.0  10.419636    1.0  99999.0  12.059136   \n",
       "5                             0.0  30.0  10.325913    1.0  99999.0  12.817517   \n",
       "6                             0.0  30.0  11.144996    1.0  99999.0  11.142769   \n",
       "\n",
       "                                \n",
       "                           sum  \n",
       "orders_day_of_week              \n",
       "0                   62859635.8  \n",
       "1                   62831887.1  \n",
       "2                   47618490.0  \n",
       "3                   43094467.4  \n",
       "4                   41916182.2  \n",
       "5                   49571977.0  \n",
       "6                   45561789.6  "
      ]
     },
     "execution_count": 70,
     "metadata": {},
     "output_type": "execute_result"
    }
   ],
   "source": [
    "#statistics of the day of the week orders profil\n",
    "day_of_week_sums = df_all.groupby(['orders_day_of_week']).agg({'Order Interval' : ['min', 'max', 'mean'], 'prices' : ['min', 'max', 'mean', 'sum']})\n",
    "day_of_week_sums"
   ]
  },
  {
   "cell_type": "markdown",
   "id": "b94c22bb",
   "metadata": {},
   "source": [
    "Saturday is the day with the highest revenue, which aligns with the highest orders also. "
   ]
  },
  {
   "cell_type": "code",
   "execution_count": 71,
   "id": "460ead3c",
   "metadata": {},
   "outputs": [],
   "source": [
    "#crosstab of day of the week orders and regions\n",
    "crosstab_region_day_of_week = pd.crosstab(df_all['region'], df_all['orders_day_of_week'], dropna = False)"
   ]
  },
  {
   "cell_type": "code",
   "execution_count": 72,
   "id": "0b223882",
   "metadata": {},
   "outputs": [
    {
     "data": {
      "image/png": "[encoded data removed]",
      "text/plain": [
       "<Figure size 640x480 with 1 Axes>"
      ]
     },
     "metadata": {},
     "output_type": "display_data"
    }
   ],
   "source": [
    "#stacked bar chart of day of the week orders broken down by regions\n",
    "region_day_of_week = crosstab_region_day_of_week.plot(kind = 'barh', stacked = True, color = sns.color_palette('Blues', 7))\n",
    "plt.legend(loc='lower right')\n",
    "plt.ylabel('Regions', fontweight = 'bold')\n",
    "plt.title('Day of week Orders Profile by Region', fontweight = 'bold')\n",
    "plt.show()"
   ]
  },
  {
   "cell_type": "code",
   "execution_count": 73,
   "id": "748579e0",
   "metadata": {},
   "outputs": [],
   "source": [
    "# exporting the bar\n",
    "region_day_of_week.figure.savefig(os.path.join(path, '04.Analysis','region_day_of_week_bar.png'))"
   ]
  },
  {
   "cell_type": "code",
   "execution_count": 74,
   "id": "40d6284a",
   "metadata": {},
   "outputs": [],
   "source": [
    "#crosstab of orders day of the week and departments\n",
    "crosstab_dept_day_of_week = pd.crosstab(df_all['department'], df_all['orders_day_of_week'], dropna = False)"
   ]
  },
  {
   "cell_type": "code",
   "execution_count": 75,
   "id": "4b22911c",
   "metadata": {},
   "outputs": [
    {
     "data": {
      "image/png": "[encoded data removed]",
      "text/plain": [
       "<Figure size 640x480 with 1 Axes>"
      ]
     },
     "metadata": {},
     "output_type": "display_data"
    }
   ],
   "source": [
    "#stacked bar chart of orders day of the week broken down by department\n",
    "dept_day_of_week = crosstab_dept_day_of_week.plot(kind = 'barh', stacked = True, color = sns.color_palette('Blues', 7))\n",
    "plt.legend(loc='lower right')\n",
    "plt.ylabel('Department', fontweight = 'bold')\n",
    "plt.title('Day of Week Orders Profile by Department', fontweight = 'bold')\n",
    "plt.show()"
   ]
  },
  {
   "cell_type": "code",
   "execution_count": 76,
   "id": "740dee41",
   "metadata": {},
   "outputs": [],
   "source": [
    "# exporting the bar\n",
    "dept_day_of_week.figure.savefig(os.path.join(path, '04.Analysis','dept_day_of_week_bar.png'))"
   ]
  },
  {
   "cell_type": "code",
   "execution_count": 77,
   "id": "59a03e2b",
   "metadata": {},
   "outputs": [],
   "source": [
    "# exporting data\n",
    "df_all.to_pickle(os.path.join(path,'02.Data','Prepared data','orders_products_all.pkl'))"
   ]
  },
  {
   "cell_type": "code",
   "execution_count": null,
   "id": "22424687",
   "metadata": {},
   "outputs": [],
   "source": []
  }
 ],
 "metadata": {
  "kernelspec": {
   "display_name": "Python 3 (ipykernel)",
   "language": "python",
   "name": "python3"
  },
  "language_info": {
   "codemirror_mode": {
    "name": "ipython",
    "version": 3
   },
   "file_extension": ".py",
   "mimetype": "text/x-python",
   "name": "python",
   "nbconvert_exporter": "python",
   "pygments_lexer": "ipython3",
   "version": "3.10.9"
  }
 },
 "nbformat": 4,
 "nbformat_minor": 5
}
