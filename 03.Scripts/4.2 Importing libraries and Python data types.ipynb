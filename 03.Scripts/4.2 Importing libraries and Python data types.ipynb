{
 "cells": [
  {
   "cell_type": "code",
   "execution_count": 6,
   "id": "cdc1adc3",
   "metadata": {},
   "outputs": [],
   "source": [
    "#Import libraries\n",
    "import pandas as pd\n",
    "import numpy as np\n",
    "import os"
   ]
  },
  {
   "cell_type": "code",
   "execution_count": 7,
   "id": "7ea8fb24",
   "metadata": {},
   "outputs": [],
   "source": [
    "x=2"
   ]
  },
  {
   "cell_type": "code",
   "execution_count": 8,
   "id": "0240cc0b",
   "metadata": {},
   "outputs": [
    {
     "data": {
      "text/plain": [
       "2"
      ]
     },
     "execution_count": 8,
     "metadata": {},
     "output_type": "execute_result"
    }
   ],
   "source": [
    "x"
   ]
  },
  {
   "cell_type": "code",
   "execution_count": 9,
   "id": "64ae5c65",
   "metadata": {},
   "outputs": [
    {
     "name": "stdout",
     "output_type": "stream",
     "text": [
      "2\n"
     ]
    }
   ],
   "source": [
    "print(x)"
   ]
  },
  {
   "cell_type": "code",
   "execution_count": 10,
   "id": "e8f2acea",
   "metadata": {},
   "outputs": [
    {
     "data": {
      "text/plain": [
       "int"
      ]
     },
     "execution_count": 10,
     "metadata": {},
     "output_type": "execute_result"
    }
   ],
   "source": [
    "type(x)"
   ]
  },
  {
   "cell_type": "code",
   "execution_count": 11,
   "id": "0616605c",
   "metadata": {},
   "outputs": [],
   "source": [
    "y=5.62"
   ]
  },
  {
   "cell_type": "code",
   "execution_count": 12,
   "id": "0cad6a4c",
   "metadata": {},
   "outputs": [
    {
     "data": {
      "text/plain": [
       "float"
      ]
     },
     "execution_count": 12,
     "metadata": {},
     "output_type": "execute_result"
    }
   ],
   "source": [
    "type(y)"
   ]
  },
  {
   "cell_type": "code",
   "execution_count": 13,
   "id": "0875fb9f",
   "metadata": {},
   "outputs": [],
   "source": [
    "x=50"
   ]
  },
  {
   "cell_type": "code",
   "execution_count": 14,
   "id": "a42512d0",
   "metadata": {},
   "outputs": [],
   "source": [
    "y=50"
   ]
  },
  {
   "cell_type": "code",
   "execution_count": 15,
   "id": "269c679b",
   "metadata": {},
   "outputs": [
    {
     "data": {
      "text/plain": [
       "100"
      ]
     },
     "execution_count": 15,
     "metadata": {},
     "output_type": "execute_result"
    }
   ],
   "source": [
    "x+y"
   ]
  },
  {
   "cell_type": "markdown",
   "id": "cba3bbb7",
   "metadata": {},
   "source": []
  },
  {
   "cell_type": "code",
   "execution_count": 18,
   "id": "78cf5b21",
   "metadata": {},
   "outputs": [],
   "source": [
    "x=50"
   ]
  },
  {
   "cell_type": "code",
   "execution_count": 19,
   "id": "2f777203",
   "metadata": {},
   "outputs": [
    {
     "data": {
      "text/plain": [
       "100"
      ]
     },
     "execution_count": 19,
     "metadata": {},
     "output_type": "execute_result"
    }
   ],
   "source": [
    "x*2"
   ]
  },
  {
   "cell_type": "code",
   "execution_count": 22,
   "id": "ea480191",
   "metadata": {},
   "outputs": [],
   "source": [
    "y=200"
   ]
  },
  {
   "cell_type": "code",
   "execution_count": 23,
   "id": "5fed67e4",
   "metadata": {},
   "outputs": [
    {
     "data": {
      "text/plain": [
       "100.0"
      ]
     },
     "execution_count": 23,
     "metadata": {},
     "output_type": "execute_result"
    }
   ],
   "source": [
    "y/2"
   ]
  },
  {
   "cell_type": "code",
   "execution_count": 24,
   "id": "94bf87a0",
   "metadata": {},
   "outputs": [],
   "source": [
    "x=0.25"
   ]
  },
  {
   "cell_type": "code",
   "execution_count": 25,
   "id": "bb4e8f2e",
   "metadata": {},
   "outputs": [],
   "source": [
    "y=95.236"
   ]
  },
  {
   "cell_type": "code",
   "execution_count": 26,
   "id": "f893f7db",
   "metadata": {},
   "outputs": [
    {
     "data": {
      "text/plain": [
       "0.0026250577512705276"
      ]
     },
     "execution_count": 26,
     "metadata": {},
     "output_type": "execute_result"
    }
   ],
   "source": [
    "x/y"
   ]
  },
  {
   "cell_type": "code",
   "execution_count": 27,
   "id": "81dd6133",
   "metadata": {},
   "outputs": [
    {
     "ename": "NameError",
     "evalue": "name 'App' is not defined",
     "output_type": "error",
     "traceback": [
      "\u001b[1;31m---------------------------------------------------------------------------\u001b[0m",
      "\u001b[1;31mNameError\u001b[0m                                 Traceback (most recent call last)",
      "Cell \u001b[1;32mIn[27], line 1\u001b[0m\n\u001b[1;32m----> 1\u001b[0m a\u001b[38;5;241m=\u001b[39m\u001b[43mApp\u001b[49m\n",
      "\u001b[1;31mNameError\u001b[0m: name 'App' is not defined"
     ]
    }
   ],
   "source": [
    "a=App"
   ]
  },
  {
   "cell_type": "code",
   "execution_count": 28,
   "id": "122da394",
   "metadata": {},
   "outputs": [],
   "source": [
    "a='App'"
   ]
  },
  {
   "cell_type": "code",
   "execution_count": 29,
   "id": "dc5c99d6",
   "metadata": {},
   "outputs": [],
   "source": [
    "b='le'"
   ]
  },
  {
   "cell_type": "code",
   "execution_count": 30,
   "id": "2f07a657",
   "metadata": {},
   "outputs": [
    {
     "data": {
      "text/plain": [
       "'Apple'"
      ]
     },
     "execution_count": 30,
     "metadata": {},
     "output_type": "execute_result"
    }
   ],
   "source": [
    "a+b"
   ]
  },
  {
   "cell_type": "code",
   "execution_count": 38,
   "id": "54d396b4",
   "metadata": {},
   "outputs": [],
   "source": [
    "a='hate '"
   ]
  },
  {
   "cell_type": "code",
   "execution_count": 39,
   "id": "3b6390e2",
   "metadata": {},
   "outputs": [],
   "source": [
    "b='you '"
   ]
  },
  {
   "cell_type": "code",
   "execution_count": 40,
   "id": "612203b7",
   "metadata": {},
   "outputs": [],
   "source": [
    "c='I '"
   ]
  },
  {
   "cell_type": "code",
   "execution_count": 41,
   "id": "9d55896c",
   "metadata": {},
   "outputs": [],
   "source": [
    "d='love '"
   ]
  },
  {
   "cell_type": "code",
   "execution_count": 42,
   "id": "9672cff2",
   "metadata": {},
   "outputs": [
    {
     "data": {
      "text/plain": [
       "'I hate you '"
      ]
     },
     "execution_count": 42,
     "metadata": {},
     "output_type": "execute_result"
    }
   ],
   "source": [
    "c+a+b"
   ]
  },
  {
   "cell_type": "code",
   "execution_count": 43,
   "id": "278f9bfc",
   "metadata": {},
   "outputs": [
    {
     "data": {
      "text/plain": [
       "'I love you '"
      ]
     },
     "execution_count": 43,
     "metadata": {},
     "output_type": "execute_result"
    }
   ],
   "source": [
    "c+d+b"
   ]
  },
  {
   "cell_type": "code",
   "execution_count": null,
   "id": "e816a565",
   "metadata": {},
   "outputs": [],
   "source": []
  }
 ],
 "metadata": {
  "kernelspec": {
   "display_name": "Python 3 (ipykernel)",
   "language": "python",
   "name": "python3"
  },
  "language_info": {
   "codemirror_mode": {
    "name": "ipython",
    "version": 3
   },
   "file_extension": ".py",
   "mimetype": "text/x-python",
   "name": "python",
   "nbconvert_exporter": "python",
   "pygments_lexer": "ipython3",
   "version": "3.10.9"
  }
 },
 "nbformat": 4,
 "nbformat_minor": 5
}
